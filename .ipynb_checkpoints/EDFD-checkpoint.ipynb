{
 "cells": [
  {
   "cell_type": "code",
   "execution_count": 1,
   "id": "d111c0bb-e01a-450a-b1b7-1e580497ba64",
   "metadata": {},
   "outputs": [],
   "source": [
    "import pandas as pd\n",
    "import numpy as np\n",
    "import matplotlib.pyplot as plt\n",
    "import seaborn as sns"
   ]
  },
  {
   "cell_type": "code",
   "execution_count": 2,
   "id": "6b02d9a2-209b-4ff8-8dc6-e7d74584bf31",
   "metadata": {},
   "outputs": [],
   "source": [
    "df = pd.read_csv('data.csv')"
   ]
  },
  {
   "cell_type": "code",
   "execution_count": 3,
   "id": "8193f74e-e628-445a-9cf1-3c0c40827cac",
   "metadata": {},
   "outputs": [],
   "source": [
    "df_copy = df.copy()"
   ]
  },
  {
   "cell_type": "code",
   "execution_count": 4,
   "id": "08cf362c-83a7-4baa-8906-a35df301ae1d",
   "metadata": {},
   "outputs": [],
   "source": [
    "size = 1000000"
   ]
  },
  {
   "cell_type": "code",
   "execution_count": 5,
   "id": "9981da9a-2505-4712-a1e1-c0094282c258",
   "metadata": {},
   "outputs": [],
   "source": [
    "df = df_copy.copy()[:size]"
   ]
  },
  {
   "cell_type": "code",
   "execution_count": 6,
   "id": "4b07b45e-fe96-4ec3-9fa5-e20fb1dcb6a4",
   "metadata": {},
   "outputs": [
    {
     "data": {
      "text/plain": [
       "Transaction Ref    False\n",
       "Originator         False\n",
       "Beneficiary        False\n",
       "Type               False\n",
       "Currency           False\n",
       "Value              False\n",
       "Flag               False\n",
       "Fulldate           False\n",
       "Intermediate       False\n",
       "dtype: bool"
      ]
     },
     "execution_count": 6,
     "metadata": {},
     "output_type": "execute_result"
    }
   ],
   "source": [
    "df.isna().any()"
   ]
  },
  {
   "cell_type": "code",
   "execution_count": 7,
   "id": "cc42b363-48e6-49f6-8efe-3c7afa77f29c",
   "metadata": {},
   "outputs": [
    {
     "name": "stdout",
     "output_type": "stream",
     "text": [
      "CPU times: user 1.76 s, sys: 233 ms, total: 1.99 s\n",
      "Wall time: 2.01 s\n"
     ]
    }
   ],
   "source": [
    "%%time\n",
    "df = df_copy.copy()[:size]\n",
    "df['Fulldate'] = pd.to_datetime(df['Fulldate'])\n",
    "\n",
    "df['OriginatorCountry'] = df['Originator'].str.strip().str[4:6]\n",
    "df['IntermediateCountry'] = df['Intermediate'].str.strip().str[4:6]\n",
    "df['BeneficiaryCountry'] = df['Originator'].str.strip().str[4:6]\n",
    "\n",
    "df['OriginatorCountry_BeneficiaryCountry'] = df['OriginatorCountry']+df['BeneficiaryCountry']\n",
    "df['OriginatorCountry_IntermediateCountry'] = df['OriginatorCountry']+df['IntermediateCountry']\n",
    "df['IntermediateCountry_BeneficiaryCountry'] = df['IntermediateCountry']+df['BeneficiaryCountry']\n",
    "df['OriginatorCountry_IntermediateCountry_BeneficiaryCountry'] = df['OriginatorCountry']+df['IntermediateCountry']+df['BeneficiaryCountry']"
   ]
  },
  {
   "cell_type": "markdown",
   "id": "655b861a-e5d3-453e-83ae-c37839a14ce6",
   "metadata": {},
   "source": [
    "# Features Client"
   ]
  },
  {
   "cell_type": "code",
   "execution_count": 8,
   "id": "14075b31-15bd-465c-a15c-c43f39269133",
   "metadata": {},
   "outputs": [],
   "source": [
    "def getLatency(x,name_col):\n",
    "    return (x[name_col]-x[name_col].shift(1)).dt.total_seconds().fillna(0)"
   ]
  },
  {
   "cell_type": "code",
   "execution_count": 9,
   "id": "d1cfb5a6-9a71-4958-aab3-ace6df4373f4",
   "metadata": {},
   "outputs": [],
   "source": [
    "def get_circuit(x):\n",
    "    return sum(df.loc[x.index,'Beneficiary']==df.loc[x.index,'Intermediate'])"
   ]
  },
  {
   "cell_type": "code",
   "execution_count": 10,
   "id": "b5b465e8-db9c-4b56-90ee-f87a9a998a19",
   "metadata": {},
   "outputs": [],
   "source": [
    "def get_circuit(x):\n",
    "    return sum(x.str[:2]!=x.str[2:4])"
   ]
  },
  {
   "cell_type": "code",
   "execution_count": 11,
   "id": "9a61952a-f306-4fb8-a7fe-02992b24cd8c",
   "metadata": {},
   "outputs": [],
   "source": [
    "def base_features_client(type_client,period,relationship):\n",
    "    \n",
    "    cols_start = df.columns\n",
    "    \n",
    "    groupby = []\n",
    "        \n",
    "    if period == '10Days':\n",
    "        groupby = type_client+[pd.Grouper(key='Fulldate', axis=0, freq='10D')]\n",
    "    elif period == 'Month':\n",
    "        groupby = type_client+[pd.Grouper(key='Fulldate', axis=0, freq='30D')]\n",
    "    elif period == 'Global':\n",
    "        groupby = type_client\n",
    "\n",
    "    name = period+'_'+'_'.join(type_client)\n",
    "    \n",
    "    print(groupby)\n",
    "    #FREQUENCY\n",
    "    \n",
    "    df['frequency_'+name] = df.groupby(groupby)['Value'].transform('count')\n",
    "    \n",
    "    #AMOUNT\n",
    "    \n",
    "    df['sum_value_'+name] = df.groupby(groupby)['Value'].transform('sum')\n",
    "    df['max_value_'+name] = df.groupby(groupby)['Value'].transform('max')\n",
    "    df['min_value_'+name] = df.groupby(groupby)['Value'].transform('min')\n",
    "    df['avg_value_'+name] = df.groupby(groupby)['Value'].transform('sum')/df['frequency_'+name]\n",
    "    \n",
    "    if relationship == False:\n",
    "        # LATENCY\n",
    "        #print('latency')\n",
    "        df['latency_'+name] = df.groupby(groupby, as_index=False).apply(getLatency,name_col='Fulldate').reset_index(level=0, drop=True)\n",
    "\n",
    "\n",
    "        # NB RELATION\n",
    "        #print('nb relation')\n",
    "        if type_client[0] == 'Originator':\n",
    "            df['number_relation_'+name] = df.groupby(['Originator'])['Beneficiary'].transform('nunique')\n",
    "        elif type_client[0] =='Beneficiary':\n",
    "            df['number_relation_'+name] = df.groupby(['Beneficiary'])['Originator'].transform('nunique')\n",
    "        \n",
    "    # NB OF DISTINCT CURRENCY\n",
    "    #print('currency 1')\n",
    "    \n",
    "    df['number_distinct_currency_'+name] = df.groupby(['Originator'])['Currency'].transform('nunique')\n",
    "    \n",
    "    # NB WITH CURRENT CURRENCY\n",
    "    #print('currency 2')\n",
    "        \n",
    "    df['frequency_with_currency_'+name] = df.groupby(groupby+['Currency'])['Value'].transform('count')\n",
    "    \n",
    "    if relationship == False:\n",
    "    \n",
    "        # NB OF DISTINCT COUNTRIES\n",
    "        #print('country 1')\n",
    "\n",
    "        if type_client[0] == 'Originator' :\n",
    "            df['number_distinct_country_'+name] = df.groupby(['Originator'])['BeneficiaryCountry'].transform('nunique')\n",
    "        elif type_client[0] =='Beneficiary':\n",
    "            df['number_distinct_country_'+name] = df.groupby(['Beneficiary'])['OriginatorCountry'].transform('nunique')\n",
    "\n",
    "        # NB WITH CURRENT COUNTRY\n",
    "       # print('country 2')\n",
    "\n",
    "        if type_client[0] == 'Originator':\n",
    "            df['frequency_to_Beneficiary_Country_'+name] = df.groupby(groupby+['BeneficiaryCountry'])['Value'].transform('count')\n",
    "\n",
    "        elif type_client[0] =='Beneficiary':\n",
    "            df['frequency_to_Originator_Country_'+name] = df.groupby(groupby+['OriginatorCountry'])['Value'].transform('count')\n",
    "\n",
    "\n",
    "        # NB WITH INTERMEDIATE\n",
    "        #print('intermediate 1')\n",
    "\n",
    "        if type_client[0] == 'Originator':\n",
    "            df['number_with_intermediate_'+name] = df.groupby(['Originator'])['IntermediateCountry_BeneficiaryCountry'].transform(get_circuit)\n",
    "        elif type_client[0] =='Beneficiary' :\n",
    "            df['number_with_intermediate_'+name] = df.groupby(['Beneficiary'])['IntermediateCountry_BeneficiaryCountry'].transform(get_circuit)\n",
    "\n",
    "        # NB DISTINCT CIRCRUIT\n",
    "        #print('intermediate 2')\n",
    "\n",
    "        if type_client[0] == 'Originator':\n",
    "            df['number_dinstinct_circuit_with_intermediate_'+name] = df.groupby(['Originator'])['IntermediateCountry_BeneficiaryCountry'].transform('nunique')\n",
    "        elif type_client[0] =='Beneficiary':\n",
    "            df['number_dinstinct_circuit_with_intermediate_'+name] = df.groupby(['Beneficiary'])['OriginatorCountry_IntermediateCountry'].transform('nunique')\n",
    "\n",
    "        # NB CURRENT CIRCRUIT\n",
    "        #print('intermediate 3')\n",
    "\n",
    "        if type_client[0] == 'Originator':\n",
    "            df['number_current_circuit_with_intermediate_'+name] = df.groupby(['Originator','IntermediateCountry_BeneficiaryCountry'])['Value'].transform('count')\n",
    "        elif type_client[0] =='Beneficiary':\n",
    "            df['number_current_circuit_with_intermediate_'+name] = df.groupby(['Beneficiary','OriginatorCountry_IntermediateCountry'])['Value'].transform('count')\n",
    "\n",
    "    \n",
    "    cols_end = df.columns\n",
    "    \n",
    "    new_cols = list(set(cols_end) - set(cols_start))\n",
    "    \n",
    "    return new_cols"
   ]
  },
  {
   "cell_type": "code",
   "execution_count": 12,
   "id": "85c08cd7-332c-43d3-a27d-7734721be56d",
   "metadata": {},
   "outputs": [
    {
     "name": "stdout",
     "output_type": "stream",
     "text": [
      "['Beneficiary']\n",
      "['Beneficiary', TimeGrouper(key='Fulldate', freq=<10 * Days>, axis=0, sort=True, closed='left', label='left', how='mean', convention='e', origin='start_day')]\n",
      "['Beneficiary', TimeGrouper(key='Fulldate', freq=<30 * Days>, axis=0, sort=True, closed='left', label='left', how='mean', convention='e', origin='start_day')]\n",
      "['Originator']\n",
      "['Originator', TimeGrouper(key='Fulldate', freq=<10 * Days>, axis=0, sort=True, closed='left', label='left', how='mean', convention='e', origin='start_day')]\n",
      "['Originator', TimeGrouper(key='Fulldate', freq=<30 * Days>, axis=0, sort=True, closed='left', label='left', how='mean', convention='e', origin='start_day')]\n",
      "['Intermediate']\n",
      "['Intermediate', TimeGrouper(key='Fulldate', freq=<10 * Days>, axis=0, sort=True, closed='left', label='left', how='mean', convention='e', origin='start_day')]\n",
      "['Intermediate', TimeGrouper(key='Fulldate', freq=<30 * Days>, axis=0, sort=True, closed='left', label='left', how='mean', convention='e', origin='start_day')]\n",
      "['Originator', 'Beneficiary']\n",
      "['Originator', 'Beneficiary', TimeGrouper(key='Fulldate', freq=<10 * Days>, axis=0, sort=True, closed='left', label='left', how='mean', convention='e', origin='start_day')]\n",
      "['Originator', 'Beneficiary', TimeGrouper(key='Fulldate', freq=<30 * Days>, axis=0, sort=True, closed='left', label='left', how='mean', convention='e', origin='start_day')]\n",
      "['Originator', 'Intermediate']\n",
      "['Originator', 'Intermediate', TimeGrouper(key='Fulldate', freq=<10 * Days>, axis=0, sort=True, closed='left', label='left', how='mean', convention='e', origin='start_day')]\n",
      "['Originator', 'Intermediate', TimeGrouper(key='Fulldate', freq=<30 * Days>, axis=0, sort=True, closed='left', label='left', how='mean', convention='e', origin='start_day')]\n",
      "['Intermediate', 'Beneficiary']\n",
      "['Intermediate', 'Beneficiary', TimeGrouper(key='Fulldate', freq=<10 * Days>, axis=0, sort=True, closed='left', label='left', how='mean', convention='e', origin='start_day')]\n",
      "['Intermediate', 'Beneficiary', TimeGrouper(key='Fulldate', freq=<30 * Days>, axis=0, sort=True, closed='left', label='left', how='mean', convention='e', origin='start_day')]\n",
      "CPU times: user 3min 40s, sys: 18.5 s, total: 3min 58s\n",
      "Wall time: 3min 58s\n"
     ]
    }
   ],
   "source": [
    "%%time \n",
    "\n",
    "array = []\n",
    "name_configuration = []\n",
    "\n",
    "array.append(base_features_client(['Beneficiary'],'Global',False))\n",
    "array.append(base_features_client(['Beneficiary'],'10Days',False))\n",
    "array.append(base_features_client(['Beneficiary'],'Month',False))\n",
    "name_configuration.append('Beneficiary-Global')\n",
    "name_configuration.append('Beneficiary-10Days')\n",
    "name_configuration.append('Beneficiary-Month')\n",
    "\n",
    "array.append(base_features_client(['Originator'],'Global',False))\n",
    "array.append(base_features_client(['Originator'],'10Days',False))\n",
    "array.append(base_features_client(['Originator'],'Month',False))\n",
    "name_configuration.append('Originator-Global')\n",
    "name_configuration.append('Originator-10Days')\n",
    "name_configuration.append('Originator-Month')\n",
    "\n",
    "array.append(base_features_client(['Intermediate'],'Global',False))\n",
    "array.append(base_features_client(['Intermediate'],'10Days',False))\n",
    "array.append(base_features_client(['Intermediate'],'Month',False))\n",
    "name_configuration.append('Intermediate-Global')\n",
    "name_configuration.append('Intermediate-10Days')\n",
    "name_configuration.append('Intermediate-Month')\n",
    "\n",
    "array.append(base_features_client(['Originator','Beneficiary'],'Global',True))\n",
    "array.append(base_features_client(['Originator','Beneficiary'],'10Days',True))\n",
    "array.append(base_features_client(['Originator','Beneficiary'],'Month',True))\n",
    "name_configuration.append('Originator-Beneficiary-Global')\n",
    "name_configuration.append('Originator-Beneficiary-10Days')\n",
    "name_configuration.append('Originator-Beneficiary-Month')\n",
    "\n",
    "array.append(base_features_client(['Originator','Intermediate'],'Global',True))\n",
    "array.append(base_features_client(['Originator','Intermediate'],'10Days',True))\n",
    "array.append(base_features_client(['Originator','Intermediate'],'Month',True))\n",
    "name_configuration.append('Originator-Intermediate-Global')\n",
    "name_configuration.append('Originator-Intermediate-10Days')\n",
    "name_configuration.append('Originator-Intermediate-Month')\n",
    "\n",
    "array.append(base_features_client(['Intermediate','Beneficiary'],'Global',True))\n",
    "array.append(base_features_client(['Intermediate','Beneficiary'],'10Days',True))\n",
    "array.append(base_features_client(['Intermediate','Beneficiary'],'Month',True))\n",
    "name_configuration.append('Intermediate-Beneficiary-Global')\n",
    "name_configuration.append('Intermediate-Beneficiary-10Days')\n",
    "name_configuration.append('Intermediate-Beneficiary-Month')"
   ]
  },
  {
   "cell_type": "markdown",
   "id": "66e21503-ef47-44ee-9500-456933dc7b56",
   "metadata": {},
   "source": [
    "# Features Category"
   ]
  },
  {
   "cell_type": "code",
   "execution_count": 13,
   "id": "8de679a5-68a8-4352-bba9-a29ed7f93aca",
   "metadata": {},
   "outputs": [],
   "source": [
    "def base_features_transaction(column,period):\n",
    "    \n",
    "    cols_start = df.columns\n",
    "        \n",
    "    if period == '10Days':\n",
    "        groupby = [column,pd.Grouper(key=name_col_date, axis=0, freq='10D')]\n",
    "    elif period == 'Month':\n",
    "        groupby = [column,pd.Grouper(key=name_col_date, axis=0, freq='30D')]\n",
    "    elif period == 'Global':\n",
    "        groupby = column\n",
    "\n",
    "    name = period+'_'+'_'.join(column)\n",
    "    \n",
    "    #FREQUENCY\n",
    "    \n",
    "    df['frequency_'+name] = df.groupby(groupby)['Value'].transform('count')\n",
    "    \n",
    "    #AMOUNT\n",
    "    \n",
    "    df['sum_value_'+name] = df.groupby(groupby)['Value'].transform('sum')\n",
    "    df['max_value_'+name] = df.groupby(groupby)['Value'].transform('max')\n",
    "    df['min_value_'+name] = df.groupby(groupby)['Value'].transform('min')\n",
    "    df['avg_value_'+name] = df.groupby(groupby)['Value'].transform('sum')/df['frequency_'+name]\n",
    "    \n",
    "    # LATENCY\n",
    "    df['latency_'+name] = df.groupby(groupby, as_index=False).apply(getLatency,name_col='Fulldate').reset_index(level=0, drop=True)\n",
    "    \n",
    "    # NB RELATION\n",
    "    df['number_relation_originator_'+name] = df.groupby(groupby)['Originator'].transform('nunique')\n",
    "    df['number_relation_beneficiary_'+name] = df.groupby(groupby)['Beneficiary'].transform('nunique')\n",
    "    df['number_relation_intermediate_'+name] = df.groupby(groupby)['Intermediate'].transform('nunique')\n",
    "        \n",
    "    # NB OF DISTINCT CURRENCY\n",
    "    \n",
    "    if column != 'Currency':\n",
    "        df['number_distinct_currency_'+name] = df.groupby(groupby)['Currency'].transform('nunique')\n",
    "        df['frequency_with_currency_'+name] = df.groupby(groupby+['Currency'])['Value'].transform('count')\n",
    "    \n",
    "    \n",
    "    # NB OF DISTINCT COUNTRIES\n",
    "    \n",
    "    if column not in ['OriginatorCountry','BeneficiaryCountry','IntermediateCountry']:\n",
    "        df['number_distinct_originator_country_'+name] = df.groupby(groupby)['OriginatorCountry'].transform('nunique')\n",
    "        df['number_distinct_beneficiary_country_'+name] = df.groupby(groupby)['BeneficiaryCountry'].transform('nunique')\n",
    "        df['number_distinct_intermediate_country_'+name] = df.groupby(groupby)['IntermediateCountry'].transform('nunique')\n",
    "        \n",
    "        df['number_current_originator_country_'+name] = df.groupby(groupby)['OriginatorCountry'].transform('count')\n",
    "        df['number_current_beneficiary_country_'+name] = df.groupby(groupby)['BeneficiaryCountry'].transform('count')\n",
    "        df['number_current_intermediate_country_'+name] = df.groupby(groupby)['IntermediateCountry'].transform('count')\n",
    "            \n",
    "    \n",
    "    # NB WITH INTERMEDIATE\n",
    "    df['number_with_intermediate_'+name] = df.groupby(groupby)['IntermediateCountry_BeneficiaryCountry'].transform(get_circuit)\n",
    "    \n",
    "    # NB DISTINCT CIRCRUIT\n",
    "    \n",
    "    df['number_dinstinct_circuit_with_intermediate_'+name] = df.groupby(groupby)['IntermediateCountry_BeneficiaryCountry'].transform('nunique')\n",
    "        \n",
    "    # NB CURRENT CIRCRUIT\n",
    "    \n",
    "    df['number_current_circuit_intermediateCountry_beneficiaryCountry_'+name] = df.groupby(groupby+['IntermediateCountry_BeneficiaryCountry'])['Value'].transform('count')\n",
    "    df['number_current_circuit_originatorCountry_intermediateCountry_'+name] = df.groupby(groupby+['OriginatorCountry_IntermediateCountry'])['Value'].transform('count')\n",
    "    df['number_current_circuit_originatorCountry_beneficiaryCountry_'+name] = df.groupby(groupby+['OriginatorCountry_BeneficiaryCountry'])['Value'].transform('count')\n",
    "    df['number_current_circuit_originatorCountry_intermediateCountry_beneficiaryCountry_'+name] = df.groupby(groupby+['OriginatorCountry_IntermediateCountry_BeneficiaryCountry'])['Value'].transform('count')\n",
    "    \n",
    "    cols_end = df.columns\n",
    "    \n",
    "    new_cols = list(set(cols_end) - set(cols_start))\n",
    "    \n",
    "    return new_cols\n",
    "        "
   ]
  },
  {
   "cell_type": "code",
   "execution_count": 14,
   "id": "32691512-ec9c-4320-b99c-8fa809952c3a",
   "metadata": {},
   "outputs": [
    {
     "name": "stdout",
     "output_type": "stream",
     "text": [
      "CPU times: user 31.5 s, sys: 3.7 s, total: 35.2 s\n",
      "Wall time: 35.2 s\n"
     ]
    }
   ],
   "source": [
    "%%time\n",
    "\n",
    "\n",
    "base_feature = []\n",
    "array.extend(base_features_transaction(['Currency'],'Global'))\n",
    "name_configuration.append('Currency-Global')\n",
    "array.extend(base_features_transaction(['OriginatorCountry'],'Global'))\n",
    "name_configuration.append('OriginatorCountry-Global')\n",
    "array.extend(base_features_transaction(['BeneficiaryCountry'],'Global'))\n",
    "name_configuration.append('BeneficiaryCountry-Global')\n",
    "array.extend(base_features_transaction(['IntermediateCountry'],'Global'))\n",
    "name_configuration.append('IntermediateCountry-Global')\n",
    "array.extend(base_features_transaction(['Type'],'Global'))\n",
    "name_configuration.append('Type-Global')\n"
   ]
  },
  {
   "cell_type": "markdown",
   "id": "5ff85a14-7b4f-4dee-9302-3aeefb9cd9ca",
   "metadata": {},
   "source": [
    "# Transaction Features"
   ]
  },
  {
   "cell_type": "code",
   "execution_count": 15,
   "id": "a3ec6bd6-6287-4d69-8c92-9b5637ad8b20",
   "metadata": {},
   "outputs": [
    {
     "name": "stderr",
     "output_type": "stream",
     "text": [
      "/tmp/ipykernel_8054/1291700095.py:5: FutureWarning: Series.dt.weekofyear and Series.dt.week have been deprecated.  Please use Series.dt.isocalendar().week instead.\n",
      "  df['Week_of_year'] = df['Fulldate'].dt.week\n"
     ]
    }
   ],
   "source": [
    "\n",
    "\n",
    "base_feature.extend(list(df_copy.select_dtypes(include=np.number).columns))\n",
    "cols_start = df.columns\n",
    "\n",
    "df['Hour'] = df['Fulldate'].dt.hour\n",
    "df['Week_of_year'] = df['Fulldate'].dt.week\n",
    "df['day_of_week'] = df['Fulldate'].dt.dayofweek\n",
    "df['day_of_year'] = df['Fulldate'].dt.dayofyear\n",
    "df['quarter'] = df['Fulldate'].dt.quarter\n",
    "df['year'] = df['Fulldate'].dt.year\n",
    "df['month'] = df['Fulldate'].dt.month\n",
    "df['day'] = df['Fulldate'].dt.day\n",
    "df['is_month_start'] = df['Fulldate'].dt.is_month_start\n",
    "df['is_month_start'] = df['is_month_start'].map({True: 1, False:0})\n",
    "df['is_month_end'] = df['Fulldate'].dt.is_month_end\n",
    "df['is_month_end'] = df['is_month_end'].map({True: 1, False:0})\n",
    "cols_end = df.columns          \n",
    "new_cols = list(set(cols_end) - set(cols_start))\n",
    "\n",
    "base_feature.extend(new_cols)"
   ]
  },
  {
   "cell_type": "code",
   "execution_count": 16,
   "id": "3f3abc32-95e6-4a7d-ab47-04cc9e485e86",
   "metadata": {},
   "outputs": [
    {
     "data": {
      "text/plain": [
       "Transaction Ref    False\n",
       "Originator         False\n",
       "Beneficiary        False\n",
       "Type               False\n",
       "Currency           False\n",
       "                   ...  \n",
       "year               False\n",
       "month              False\n",
       "day                False\n",
       "is_month_start     False\n",
       "is_month_end       False\n",
       "Length: 312, dtype: bool"
      ]
     },
     "execution_count": 16,
     "metadata": {},
     "output_type": "execute_result"
    }
   ],
   "source": [
    "df.isna().any()"
   ]
  },
  {
   "cell_type": "markdown",
   "id": "b6f052cb-bbbd-49e1-a169-392c7fcf80f5",
   "metadata": {},
   "source": [
    "# Classification"
   ]
  },
  {
   "cell_type": "code",
   "execution_count": 17,
   "id": "d83e6d79-4fe0-452a-b47e-9ab3e1e24d26",
   "metadata": {},
   "outputs": [],
   "source": [
    "from sklearn.tree import DecisionTreeClassifier\n",
    "from sklearn.ensemble import RandomForestClassifier\n",
    "from sklearn.metrics import confusion_matrix\n",
    "from sklearn.model_selection import train_test_split\n",
    "from sklearn.metrics import classification_report\n",
    "from sklearn.preprocessing import MinMaxScaler\n",
    "from itertools import combinations\n",
    "from imblearn.ensemble import BalancedRandomForestClassifier"
   ]
  },
  {
   "cell_type": "code",
   "execution_count": 18,
   "id": "90334542-68ef-4a2f-9046-0ac706d9b1b4",
   "metadata": {},
   "outputs": [],
   "source": [
    "X = df.select_dtypes(include=np.number)\n",
    "y = df['Flag']\n",
    "\n",
    "X_train, X_test, y_train, y_test = train_test_split(X, y, test_size=0.2, random_state=42)"
   ]
  },
  {
   "cell_type": "code",
   "execution_count": 19,
   "id": "4a1b0225-e0ab-4e99-b24d-296f8d7277f7",
   "metadata": {},
   "outputs": [
    {
     "name": "stdout",
     "output_type": "stream",
     "text": [
      "les fraudes : \n",
      "bien trouvée TP :  456\n",
      "pas trouvée FN :  246\n",
      "les normaux\n",
      "bien trouvée TN :  198905\n",
      "pas trouvée FP :  393\n",
      "CPU times: user 3min 23s, sys: 1.8 s, total: 3min 25s\n",
      "Wall time: 3min 26s\n"
     ]
    },
    {
     "data": {
      "text/plain": [
       "{'False': {'precision': 0.9987647563908792,\n",
       "  'recall': 0.9980280785557306,\n",
       "  'f1-score': 0.9983962815818336,\n",
       "  'support': 199298},\n",
       " 'True': {'precision': 0.5371024734982333,\n",
       "  'recall': 0.6495726495726496,\n",
       "  'f1-score': 0.5880077369439072,\n",
       "  'support': 702},\n",
       " 'accuracy': 0.996805,\n",
       " 'macro avg': {'precision': 0.7679336149445563,\n",
       "  'recall': 0.8238003640641901,\n",
       "  'f1-score': 0.7932020092628704,\n",
       "  'support': 200000},\n",
       " 'weighted avg': {'precision': 0.9971443217779261,\n",
       "  'recall': 0.996805,\n",
       "  'f1-score': 0.9969558177901544,\n",
       "  'support': 200000}}"
      ]
     },
     "execution_count": 19,
     "metadata": {},
     "output_type": "execute_result"
    }
   ],
   "source": [
    "%%time\n",
    "\n",
    "model = DecisionTreeClassifier()\n",
    "\n",
    "model.fit(X_train, y_train)\n",
    "\n",
    "y_pred = model.predict(X_test)\n",
    "\n",
    "report = classification_report(y_test,y_pred,output_dict=True )\n",
    "CM = confusion_matrix(y_test, y_pred)\n",
    "\n",
    "\n",
    "TN = CM[0][0]\n",
    "FN = CM[1][0]\n",
    "TP = CM[1][1]\n",
    "FP = CM[0][1]\n",
    "print('les fraudes : ')\n",
    "print('bien trouvée TP : ',TP)\n",
    "print('pas trouvée FN : ',FN) \n",
    "print('les normaux')\n",
    "print('bien trouvée TN : ',TN)\n",
    "print('pas trouvée FP : ',FP)\n",
    "report"
   ]
  },
  {
   "cell_type": "code",
   "execution_count": 20,
   "id": "2a63b8a7-fb48-4934-874d-be8ba5af52d1",
   "metadata": {},
   "outputs": [
    {
     "name": "stdout",
     "output_type": "stream",
     "text": [
      "les fraudes : \n",
      "bien trouvée TP :  649\n",
      "pas trouvée FN :  53\n",
      "les normaux\n",
      "bien trouvée TN :  187342\n",
      "pas trouvée FP :  11956\n",
      "CPU times: user 7.22 s, sys: 912 ms, total: 8.13 s\n",
      "Wall time: 8.14 s\n"
     ]
    },
    {
     "data": {
      "text/plain": [
       "{'False': {'precision': 0.9997171749513061,\n",
       "  'recall': 0.9400094331102169,\n",
       "  'f1-score': 0.9689443563757296,\n",
       "  'support': 199298},\n",
       " 'True': {'precision': 0.05148750495834986,\n",
       "  'recall': 0.9245014245014245,\n",
       "  'f1-score': 0.09754264672728638,\n",
       "  'support': 702},\n",
       " 'accuracy': 0.939955,\n",
       " 'macro avg': {'precision': 0.525602339954828,\n",
       "  'recall': 0.9322554288058207,\n",
       "  'f1-score': 0.533243501551508,\n",
       "  'support': 200000},\n",
       " 'weighted avg': {'precision': 0.9963888888096307,\n",
       "  'recall': 0.939955,\n",
       "  'f1-score': 0.9658857363748636,\n",
       "  'support': 200000}}"
      ]
     },
     "execution_count": 20,
     "metadata": {},
     "output_type": "execute_result"
    }
   ],
   "source": [
    "%%time\n",
    "\n",
    "model = BalancedRandomForestClassifier(n_estimators=30)\n",
    "\n",
    "model.fit(X_train, y_train)\n",
    "\n",
    "y_pred = model.predict(X_test)\n",
    "\n",
    "report = classification_report(y_test,y_pred,output_dict=True )\n",
    "CM = confusion_matrix(y_test, y_pred)\n",
    "\n",
    "\n",
    "TN = CM[0][0]\n",
    "FN = CM[1][0]\n",
    "TP = CM[1][1]\n",
    "FP = CM[0][1]\n",
    "print('les fraudes : ')\n",
    "print('bien trouvée TP : ',TP)\n",
    "print('pas trouvée FN : ',FN) \n",
    "print('les normaux')\n",
    "print('bien trouvée TN : ',TN)\n",
    "print('pas trouvée FP : ',FP)\n",
    "report"
   ]
  },
  {
   "cell_type": "code",
   "execution_count": 21,
   "id": "95106068-2e8f-40f0-88c8-f841a04c0698",
   "metadata": {},
   "outputs": [
    {
     "name": "stdout",
     "output_type": "stream",
     "text": [
      "les fraudes : \n",
      "bien trouvée TP :  409\n",
      "pas trouvée FN :  293\n",
      "les normaux\n",
      "bien trouvée TN :  199257\n",
      "pas trouvée FP :  41\n",
      "CPU times: user 3min 39s, sys: 469 ms, total: 3min 39s\n",
      "Wall time: 3min 39s\n"
     ]
    },
    {
     "data": {
      "text/plain": [
       "{'False': {'precision': 0.9985316963167126,\n",
       "  'recall': 0.9997942779154834,\n",
       "  'f1-score': 0.999162588254172,\n",
       "  'support': 199298},\n",
       " 'True': {'precision': 0.9088888888888889,\n",
       "  'recall': 0.5826210826210826,\n",
       "  'f1-score': 0.7100694444444444,\n",
       "  'support': 702},\n",
       " 'accuracy': 0.99833,\n",
       " 'macro avg': {'precision': 0.9537102926028007,\n",
       "  'recall': 0.791207680268283,\n",
       "  'f1-score': 0.8546160163493082,\n",
       "  'support': 200000},\n",
       " 'weighted avg': {'precision': 0.9982170500626409,\n",
       "  'recall': 0.99833,\n",
       "  'f1-score': 0.9981478713193999,\n",
       "  'support': 200000}}"
      ]
     },
     "execution_count": 21,
     "metadata": {},
     "output_type": "execute_result"
    }
   ],
   "source": [
    "%%time\n",
    "\n",
    "modelRF = RandomForestClassifier(n_estimators=30,bootstrap = True,max_features = 'sqrt')\n",
    "\n",
    "modelRF.fit(X_train, y_train)\n",
    "\n",
    "y_pred = modelRF.predict(X_test)\n",
    "\n",
    "report = classification_report(y_test,y_pred,output_dict=True )\n",
    "report\n",
    "CM = confusion_matrix(y_test, y_pred)\n",
    "\n",
    "TN = CM[0][0]\n",
    "FN = CM[1][0]\n",
    "TP = CM[1][1]\n",
    "FP = CM[0][1]\n",
    "print('les fraudes : ')\n",
    "print('bien trouvée TP : ',TP)\n",
    "print('pas trouvée FN : ',FN)\n",
    "print('les normaux')\n",
    "print('bien trouvée TN : ',TN)\n",
    "print('pas trouvée FP : ',FP)\n",
    "report"
   ]
  },
  {
   "cell_type": "markdown",
   "id": "e3fd735e-04a4-403a-9214-e669a69dda5f",
   "metadata": {},
   "source": [
    "# Approche"
   ]
  },
  {
   "cell_type": "markdown",
   "id": "daa291aa-b96b-4020-84b6-5dd05567a470",
   "metadata": {},
   "source": [
    "## Decision Tree training"
   ]
  },
  {
   "cell_type": "code",
   "execution_count": 22,
   "id": "967feae1-c5e8-4600-bdc5-1f35a6c8ad8e",
   "metadata": {},
   "outputs": [
    {
     "name": "stdout",
     "output_type": "stream",
     "text": [
      "Beneficiary-Global base &  0.47 & 0.58 & 0.52 \\\\ \\hline\n",
      "Beneficiary-10Days base &  0.43 & 0.55 & 0.48 \\\\ \\hline\n",
      "Beneficiary-Month base &  0.43 & 0.54 & 0.48 \\\\ \\hline\n",
      "Originator-Global base &  0.19 & 0.26 & 0.22 \\\\ \\hline\n",
      "Originator-10Days base &  0.21 & 0.3 & 0.25 \\\\ \\hline\n",
      "Originator-Month base &  0.2 & 0.29 & 0.24 \\\\ \\hline\n",
      "Intermediate-Global base &  0.31 & 0.39 & 0.35 \\\\ \\hline\n",
      "Intermediate-10Days base &  0.17 & 0.22 & 0.19 \\\\ \\hline\n",
      "Intermediate-Month base &  0.25 & 0.31 & 0.28 \\\\ \\hline\n",
      "Originator-Beneficiary-Global base &  0.52 & 0.64 & 0.57 \\\\ \\hline\n",
      "Originator-Beneficiary-10Days base &  0.32 & 0.41 & 0.36 \\\\ \\hline\n",
      "Originator-Beneficiary-Month base &  0.48 & 0.56 & 0.52 \\\\ \\hline\n",
      "Originator-Intermediate-Global base &  0.38 & 0.49 & 0.43 \\\\ \\hline\n",
      "Originator-Intermediate-10Days base &  0.23 & 0.3 & 0.26 \\\\ \\hline\n",
      "Originator-Intermediate-Month base &  0.29 & 0.39 & 0.33 \\\\ \\hline\n",
      "Intermediate-Beneficiary-Global base &  0.39 & 0.46 & 0.42 \\\\ \\hline\n",
      "Intermediate-Beneficiary-10Days base &  0.28 & 0.33 & 0.3 \\\\ \\hline\n",
      "Intermediate-Beneficiary-Month base &  0.26 & 0.32 & 0.29 \\\\ \\hline\n"
     ]
    },
    {
     "ename": "TypeError",
     "evalue": "can only concatenate str (not \"list\") to str",
     "output_type": "error",
     "traceback": [
      "\u001b[0;31m---------------------------------------------------------------------------\u001b[0m",
      "\u001b[0;31mTypeError\u001b[0m                                 Traceback (most recent call last)",
      "\u001b[0;32m<timed exec>\u001b[0m in \u001b[0;36m<module>\u001b[0;34m\u001b[0m\n",
      "\u001b[0;31mTypeError\u001b[0m: can only concatenate str (not \"list\") to str"
     ]
    }
   ],
   "source": [
    "%%time\n",
    "y_pred_array = []\n",
    "y_pred_array_f1_score = []\n",
    "models = []\n",
    "models_f1_score = []\n",
    "\n",
    "\n",
    "\n",
    "for idx,cols in enumerate(name_configuration):\n",
    "    model = DecisionTreeClassifier()\n",
    "    model.fit(X_train[array[idx]+base_feature], y_train)\n",
    "    models.append(model)\n",
    "    \n",
    "    y_pred = model.predict(X_test[array[idx]+base_feature])\n",
    "    \n",
    "    report = classification_report(y_test,y_pred,output_dict=True )\n",
    "\n",
    "    models_f1_score.append(report['True']['f1-score'])\n",
    "    y_pred_array.append(np.multiply(y_pred, 1))\n",
    "    y_pred_array_f1_score.append(np.multiply(y_pred, round(report['True']['f1-score'],2)))\n",
    "    \n",
    "    print(name_configuration[idx], 'base & ',round(report['True']['precision'],2),'&',round(report['True']['recall'],2),'&',round(report['True']['f1-score'],2),'\\\\\\ \\hline')\n"
   ]
  },
  {
   "cell_type": "code",
   "execution_count": 23,
   "id": "692fd050-e931-4260-a5b8-8085f8297d8f",
   "metadata": {},
   "outputs": [],
   "source": [
    "import warnings\n",
    "warnings.filterwarnings('ignore')"
   ]
  },
  {
   "cell_type": "code",
   "execution_count": 34,
   "id": "9a25ec1f-a1df-4e7b-9e8e-54bb203f061d",
   "metadata": {},
   "outputs": [
    {
     "name": "stdout",
     "output_type": "stream",
     "text": [
      "0 : 0.006995445984594076\n",
      "1 : 0.6589673913043479\n",
      "2 : 0.7402298850574712\n",
      "3 : 0.7522658610271903\n",
      "4 : 0.760408483896308\n",
      "5 : 0.7673151750972762\n",
      "6 : 0.7654901960784314\n",
      "7 : 0.7650793650793651\n",
      "8 : 0.7658495350803043\n",
      "9 : 0.7653490328006728\n",
      "CPU times: user 5min 15s, sys: 3.15 ms, total: 5min 15s\n",
      "Wall time: 5min 15s\n"
     ]
    }
   ],
   "source": [
    "%%time\n",
    "\n",
    "for alpha in range(10):\n",
    "    listf1 = []\n",
    "    listIndex = []\n",
    "    y_pred_final = np.sum(y_pred_array_f1_score, 0)/(alpha+np.sum(y_pred_array, 0))\n",
    "    y_pred_final = (y_pred_final - np.min(y_pred_final)) / (np.max(y_pred_final) - np.min(y_pred_final))\n",
    "    y_pred_final[np.isnan(y_pred_final)] = 0\n",
    "    for i in np.arange(0,1,0.005):\n",
    "        y_pred = np.where(y_pred_final>=i, 1, 0)\n",
    "        report = classification_report(y_test,y_pred,output_dict=True )\n",
    "        listf1.append(report['True']['f1-score'])\n",
    "        listIndex.append(i)\n",
    "        # print( i,' : ',report['True'])\n",
    "    print(alpha,':',np.max(listf1))\n",
    "    listIndex[np.argmax(listf1)]"
   ]
  },
  {
   "cell_type": "code",
   "execution_count": 35,
   "id": "40517acf-6a24-4eab-9b8c-84391db56dad",
   "metadata": {},
   "outputs": [],
   "source": [
    "y_pred_final = np.sum(y_pred_array_f1_score, 0)/(alpha+np.sum(y_pred_array, 0))\n",
    "y_pred_final = (y_pred_final - np.min(y_pred_final)) / (np.max(y_pred_final) - np.min(y_pred_final))\n",
    "y_pred_final[np.isnan(y_pred_final)] = 0\n"
   ]
  },
  {
   "cell_type": "code",
   "execution_count": 36,
   "id": "b6b6e39b-5c76-4568-929d-f09e4198b35a",
   "metadata": {},
   "outputs": [
    {
     "data": {
      "text/plain": [
       "array([0. , 0.1, 0.2, 0.3, 0.4, 0.5, 0.6, 0.7, 0.8, 0.9])"
      ]
     },
     "execution_count": 36,
     "metadata": {},
     "output_type": "execute_result"
    }
   ],
   "source": [
    "np.arange(0,1,0.1)"
   ]
  },
  {
   "cell_type": "code",
   "execution_count": 37,
   "id": "4b6a65e3-bd2c-4f74-b83d-e641206c2301",
   "metadata": {},
   "outputs": [
    {
     "name": "stdout",
     "output_type": "stream",
     "text": [
      "( 0.0  ,  0.004 )\n",
      "( 0.1  ,  0.081 )\n",
      "( 0.2  ,  0.216 )\n",
      "( 0.3  ,  0.426 )\n",
      "( 0.4  ,  0.622 )\n",
      "( 0.5  ,  0.786 )\n",
      "( 0.6  ,  0.899 )\n",
      "( 0.7  ,  0.959 )\n",
      "( 0.8  ,  0.98 )\n",
      "( 0.9  ,  0.984 )\n",
      "( 1.0  ,  1.0 )\n"
     ]
    }
   ],
   "source": [
    "for i in np.arange(0,1.1,0.1):\n",
    "    y_pred = np.where(y_pred_final>=i, 1, 0)\n",
    "    report = classification_report(y_test,y_pred,output_dict=True )\n",
    "    listf1.append(report['True']['f1-score'])\n",
    "    print( '(',round(i,3),' , ',round(report['True']['precision'],3),')')\n",
    "    listIndex.append(i)"
   ]
  },
  {
   "cell_type": "code",
   "execution_count": 38,
   "id": "8442235d-a41b-4f26-a6a5-35a1ac504695",
   "metadata": {},
   "outputs": [],
   "source": [
    "y_pred_final = np.sum(y_pred_array_f1_score, 0)/(1+np.sum(y_pred_array, 0))\n",
    "y_pred_final = (y_pred_final - np.min(y_pred_final)) / (np.max(y_pred_final) - np.min(y_pred_final))\n",
    "y_pred_final[np.isnan(y_pred_final)] = 0"
   ]
  },
  {
   "cell_type": "code",
   "execution_count": 39,
   "id": "8146df17-2daf-4b0f-9afe-2526d3d0e7e0",
   "metadata": {},
   "outputs": [
    {
     "data": {
      "text/plain": [
       "{'False': {'precision': 0.998751954769638,\n",
       "  'recall': 0.9998243835863883,\n",
       "  'f1-score': 0.9992878814473057,\n",
       "  'support': 199298},\n",
       " 'True': {'precision': 0.9282786885245902,\n",
       "  'recall': 0.6452991452991453,\n",
       "  'f1-score': 0.761344537815126,\n",
       "  'support': 702},\n",
       " 'accuracy': 0.99858,\n",
       " 'macro avg': {'precision': 0.9635153216471141,\n",
       "  'recall': 0.8225617644427667,\n",
       "  'f1-score': 0.8803162096312158,\n",
       "  'support': 200000},\n",
       " 'weighted avg': {'precision': 0.9985045936051179,\n",
       "  'recall': 0.99858,\n",
       "  'f1-score': 0.9984527003111568,\n",
       "  'support': 200000}}"
      ]
     },
     "execution_count": 39,
     "metadata": {},
     "output_type": "execute_result"
    }
   ],
   "source": [
    "y_pred_final = np.sum(y_pred_array_f1_score, 0)/(6+np.sum(y_pred_array, 0))\n",
    "y_pred_final = (y_pred_final - np.min(y_pred_final)) / (np.max(y_pred_final) - np.min(y_pred_final))\n",
    "y_pred_final[np.isnan(y_pred_final)] = 0\n",
    "\n",
    "y_pred = np.where(y_pred_final>=0.69, 1, 0)\n",
    "report = classification_report(y_test,y_pred,output_dict=True )\n",
    "report"
   ]
  },
  {
   "cell_type": "code",
   "execution_count": 40,
   "id": "a29d8b40-e0fc-4055-bebc-ea06a6764cf6",
   "metadata": {},
   "outputs": [],
   "source": [
    "y_pred_final = np.sum(y_pred_array_f1_score, 0)/(9+np.sum(y_pred_array, 0))\n",
    "y_pred_final = (y_pred_final - np.min(y_pred_final)) / (np.max(y_pred_final) - np.min(y_pred_final))\n",
    "y_pred_final[np.isnan(y_pred_final)] = 0"
   ]
  },
  {
   "cell_type": "code",
   "execution_count": 41,
   "id": "46d7baf6-3e18-4b0d-915d-6c4968e94369",
   "metadata": {},
   "outputs": [
    {
     "name": "stdout",
     "output_type": "stream",
     "text": [
      "9 : 0.7653490328006728\n",
      "CPU times: user 31.5 s, sys: 0 ns, total: 31.5 s\n",
      "Wall time: 31.5 s\n"
     ]
    },
    {
     "data": {
      "text/plain": [
       "0.63"
      ]
     },
     "execution_count": 41,
     "metadata": {},
     "output_type": "execute_result"
    }
   ],
   "source": [
    "%%time\n",
    "listf1 = []\n",
    "listIndex = []\n",
    "y_pred_final = np.sum(y_pred_array_f1_score, 0)/(9+np.sum(y_pred_array, 0))\n",
    "y_pred_final = (y_pred_final - np.min(y_pred_final)) / (np.max(y_pred_final) - np.min(y_pred_final))\n",
    "y_pred_final[np.isnan(y_pred_final)] = 0\n",
    "for i in np.arange(0,1,0.005):\n",
    "    y_pred = np.where(y_pred_final>=i, 1, 0)\n",
    "    report = classification_report(y_test,y_pred,output_dict=True )\n",
    "    listf1.append(report['True']['f1-score'])\n",
    "    listIndex.append(i)\n",
    "    # print( i,' : ',report['True'])\n",
    "print(alpha,':',np.max(listf1))\n",
    "listIndex[np.argmax(listf1)]"
   ]
  },
  {
   "cell_type": "code",
   "execution_count": 46,
   "id": "fefd5f87-d667-4029-8e6b-de75bdfdb652",
   "metadata": {},
   "outputs": [
    {
     "name": "stdout",
     "output_type": "stream",
     "text": [
      "{'precision': 0.00351, 'recall': 1.0, 'f1-score': 0.006995445984594076, 'support': 702}\n",
      "{'precision': 0.081375050355848, 'recall': 0.8632478632478633, 'f1-score': 0.14872990550987852, 'support': 702}\n",
      "{'precision': 0.2155621742367833, 'recall': 0.8247863247863247, 'f1-score': 0.3417945690672963, 'support': 702}\n",
      "{'precision': 0.42615384615384616, 'recall': 0.7891737891737892, 'f1-score': 0.5534465534465535, 'support': 702}\n",
      "{'precision': 0.6220379146919431, 'recall': 0.7478632478632479, 'f1-score': 0.6791720569210866, 'support': 702}\n",
      "{'precision': 0.7858267716535433, 'recall': 0.7108262108262108, 'f1-score': 0.7464472700074795, 'support': 702}\n",
      "{'precision': 0.8990291262135922, 'recall': 0.6595441595441596, 'f1-score': 0.7608874281018899, 'support': 702}\n",
      "{'precision': 0.958904109589041, 'recall': 0.5982905982905983, 'f1-score': 0.7368421052631579, 'support': 702}\n",
      "{'precision': 0.9798850574712644, 'recall': 0.48575498575498577, 'f1-score': 0.6495238095238095, 'support': 702}\n",
      "{'precision': 0.9842105263157894, 'recall': 0.26638176638176636, 'f1-score': 0.4192825112107623, 'support': 702}\n",
      "{'precision': 1.0, 'recall': 0.0014245014245014246, 'f1-score': 0.0028449502133712666, 'support': 702}\n"
     ]
    }
   ],
   "source": [
    "for i in np.arange(0,1.1,0.1):\n",
    "    y_pred = np.where(y_pred_final>=i, 1, 0)\n",
    "    report = classification_report(y_test,y_pred,output_dict=True )\n",
    "    listf1.append(report['True']['f1-score'])\n",
    "    print(report['True'])\n",
    "    # print( '(',round(i,3),' , ',round(report['True']['precision'],3),')')\n",
    "    listIndex.append(i)"
   ]
  },
  {
   "cell_type": "markdown",
   "id": "f99b1b65-ae5e-4a40-818d-96f9cadbb828",
   "metadata": {},
   "source": [
    "# Compare with all classifiers"
   ]
  },
  {
   "cell_type": "code",
   "execution_count": 47,
   "id": "295c76f0-2d80-4151-ba34-06f06d63cf11",
   "metadata": {},
   "outputs": [],
   "source": [
    "from sklearn.model_selection import train_test_split\n",
    "from sklearn.preprocessing import StandardScaler\n",
    "from sklearn.datasets import make_moons, make_circles, make_classification\n",
    "from sklearn.neural_network import MLPClassifier\n",
    "from sklearn.neighbors import KNeighborsClassifier\n",
    "from sklearn.svm import SVC\n",
    "from sklearn.gaussian_process import GaussianProcessClassifier\n",
    "from sklearn.gaussian_process.kernels import RBF\n",
    "from sklearn.tree import DecisionTreeClassifier\n",
    "from sklearn.ensemble import RandomForestClassifier, AdaBoostClassifier\n",
    "from sklearn.naive_bayes import GaussianNB\n",
    "from sklearn.discriminant_analysis import QuadraticDiscriminantAnalysis\n"
   ]
  },
  {
   "cell_type": "code",
   "execution_count": null,
   "id": "322c0858-c4ce-408f-b4c4-9f172b5d34af",
   "metadata": {},
   "outputs": [],
   "source": []
  },
  {
   "cell_type": "code",
   "execution_count": 49,
   "id": "88a03c1d-a4aa-46e6-b4ac-5a9ff5818887",
   "metadata": {},
   "outputs": [],
   "source": [
    "names = [\n",
    "    \n",
    "    \n",
    "    \n",
    "\n",
    "    \"Neural Net\",\n",
    "    \"AdaBoost\",\n",
    "    \"Naive Bayes\",\n",
    "    \"Linear SVM\"\n",
    "    \n",
    "    \n",
    "]\n",
    "\n",
    "classifiers = [\n",
    "    \n",
    "    \n",
    "    \n",
    "\n",
    "    MLPClassifier(),\n",
    "    AdaBoostClassifier(),\n",
    "    GaussianNB(),\n",
    "    SVC(kernel=\"linear\", C=0.025),\n",
    "]"
   ]
  },
  {
   "cell_type": "code",
   "execution_count": null,
   "id": "818ea180-6df2-41eb-9d50-53079563ba00",
   "metadata": {},
   "outputs": [
    {
     "name": "stdout",
     "output_type": "stream",
     "text": [
      "----------------------------------\n",
      "Neural Net\n",
      "{'False': {'precision': 0.99649, 'recall': 1.0, 'f1-score': 0.9982419145600528, 'support': 199298}, 'True': {'precision': 0.0, 'recall': 0.0, 'f1-score': 0.0, 'support': 702}, 'accuracy': 0.99649, 'macro avg': {'precision': 0.498245, 'recall': 0.5, 'f1-score': 0.4991209572800264, 'support': 200000}, 'weighted avg': {'precision': 0.9929923200999999, 'recall': 0.99649, 'f1-score': 0.994738085439947, 'support': 200000}}\n",
      "----------------------------------\n",
      "AdaBoost\n",
      "{'False': {'precision': 0.997931379914851, 'recall': 0.9996939256791337, 'f1-score': 0.9988118752318598, 'support': 199298}, 'True': {'precision': 0.8257142857142857, 'recall': 0.4116809116809117, 'f1-score': 0.5494296577946768, 'support': 702}, 'accuracy': 0.99763, 'macro avg': {'precision': 0.9118228328145683, 'recall': 0.7056874186800227, 'f1-score': 0.7741207665132683, 'support': 200000}, 'weighted avg': {'precision': 0.997326897914207, 'recall': 0.99763, 'f1-score': 0.9972345436486553, 'support': 200000}}\n",
      "----------------------------------\n",
      "Naive Bayes\n",
      "{'False': {'precision': 0.9987235358058179, 'recall': 0.5025088059087397, 'f1-score': 0.6686071935241593, 'support': 199298}, 'True': {'precision': 0.005755943964782447, 'recall': 0.8176638176638177, 'f1-score': 0.01143141647996017, 'support': 702}, 'accuracy': 0.503615, 'macro avg': {'precision': 0.5022397398853001, 'recall': 0.6600863117862787, 'f1-score': 0.34001930500205974, 'support': 200000}, 'weighted avg': {'precision': 0.9952382195584559, 'recall': 0.503615, 'f1-score': 0.6663005065467342, 'support': 200000}}\n",
      "----------------------------------\n",
      "Linear SVM\n"
     ]
    }
   ],
   "source": [
    "%%time\n",
    "for name, clf in zip(names, classifiers):\n",
    "    print('----------------------------------')\n",
    "    print(name)\n",
    "    clf.fit(X_train, y_train)\n",
    "    y_pred = clf.predict(X_test)\n",
    "\n",
    "    report = classification_report(y_test,y_pred,output_dict=True )\n",
    "    print(report)"
   ]
  },
  {
   "cell_type": "markdown",
   "id": "10e52f82-b10b-4e19-8bcb-15bdc7aca9e5",
   "metadata": {},
   "source": [
    "# Scores "
   ]
  },
  {
   "cell_type": "code",
   "execution_count": null,
   "id": "206b4cee-1fba-4c45-8e02-8999009943a0",
   "metadata": {},
   "outputs": [],
   "source": [
    "y_pred_index = np.argsort(y_pred_final)[::-1]"
   ]
  },
  {
   "cell_type": "code",
   "execution_count": null,
   "id": "49df6f3b-ecee-4ff9-a2ea-4aef563c4b45",
   "metadata": {},
   "outputs": [],
   "source": [
    "df = df_copy.copy()[:size]\n",
    "first_10_transaction_fr_index = X_test.iloc[y_pred_index[0:10]].index\n",
    "df.loc[first_10_transaction_fr_index]"
   ]
  },
  {
   "cell_type": "code",
   "execution_count": null,
   "id": "fe5be0b9-afb9-483c-b592-9dcc1a539f81",
   "metadata": {},
   "outputs": [],
   "source": [
    "y_pred_final[y_pred_index[0:10]]"
   ]
  },
  {
   "cell_type": "markdown",
   "id": "ddba8cef-8d89-4862-aed1-84cc0d115da6",
   "metadata": {},
   "source": [
    "# Get Configurations"
   ]
  },
  {
   "cell_type": "code",
   "execution_count": null,
   "id": "e9f877b5-d5f6-4381-a839-e671c9101802",
   "metadata": {},
   "outputs": [],
   "source": [
    "tab_configuration = []\n",
    "for pred_index in y_pred_index[0:10]:\n",
    "    tab = []\n",
    "    for index,configuration in enumerate(y_pred_array):\n",
    "        if configuration[pred_index] > 0 :\n",
    "            tab.append(name_configuration[index])\n",
    "          \n",
    "        #print(configuration[pred_index])\n",
    "    print(pred_index, ' : ',tab)\n",
    "    tab_configuration.append(tab)\n",
    "    print('--------------------------------------------------')"
   ]
  },
  {
   "cell_type": "code",
   "execution_count": null,
   "id": "4a5674df-ab2d-4607-823a-d0abc1ef43d0",
   "metadata": {},
   "outputs": [],
   "source": [
    "tab_configuration"
   ]
  },
  {
   "cell_type": "code",
   "execution_count": null,
   "id": "6408965d-9485-437c-8437-51544fb7e800",
   "metadata": {},
   "outputs": [],
   "source": [
    "for idx,tr in df.loc[first_10_transaction_fr_index].iterrows():\n",
    "    index = list(first_10_transaction_fr_index).index(idx)\n",
    "    print(index,'&',tr['Originator'],'&',tr['Intermediate'],'&',tr['Beneficiary'],'&',tr['Value'],'&',tr['Fulldate'].strftime('%Y-%m-%d'),'&',tr['Currency'],'&',round(y_pred[y_pred_index[index]],2),'\\\\\\ \\hline')\n"
   ]
  },
  {
   "cell_type": "code",
   "execution_count": null,
   "id": "b8e745a4-5c13-4c8e-a714-20385bf4150c",
   "metadata": {},
   "outputs": [],
   "source": [
    "for idx,tr in df.loc[first_10_transaction_fr_index].iterrows():\n",
    "    index = list(first_10_transaction_fr_index).index(idx)\n",
    "    print(index , '&',' '.join(tab_configuration[index]),'\\\\\\ \\hline')\n"
   ]
  }
 ],
 "metadata": {
  "kernelspec": {
   "display_name": "Python 3 (ipykernel)",
   "language": "python",
   "name": "python3"
  },
  "language_info": {
   "codemirror_mode": {
    "name": "ipython",
    "version": 3
   },
   "file_extension": ".py",
   "mimetype": "text/x-python",
   "name": "python",
   "nbconvert_exporter": "python",
   "pygments_lexer": "ipython3",
   "version": "3.9.7"
  }
 },
 "nbformat": 4,
 "nbformat_minor": 5
}
