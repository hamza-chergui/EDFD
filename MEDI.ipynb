{
 "cells": [
  {
   "cell_type": "code",
   "execution_count": 167,
   "id": "d111c0bb-e01a-450a-b1b7-1e580497ba64",
   "metadata": {},
   "outputs": [],
   "source": [
    "import pandas as pd\n",
    "import numpy as np\n",
    "import matplotlib.pyplot as plt\n",
    "import seaborn as sns\n",
    "from numpy import random\n",
    "from random import sample"
   ]
  },
  {
   "cell_type": "code",
   "execution_count": 2,
   "id": "6b02d9a2-209b-4ff8-8dc6-e7d74584bf31",
   "metadata": {},
   "outputs": [],
   "source": [
    "df = pd.read_csv('swift.csv')"
   ]
  },
  {
   "cell_type": "code",
   "execution_count": 3,
   "id": "8193f74e-e628-445a-9cf1-3c0c40827cac",
   "metadata": {},
   "outputs": [],
   "source": [
    "df_copy = df.copy()"
   ]
  },
  {
   "cell_type": "code",
   "execution_count": 4,
   "id": "08cf362c-83a7-4baa-8906-a35df301ae1d",
   "metadata": {},
   "outputs": [],
   "source": [
    "size = 1000000"
   ]
  },
  {
   "cell_type": "code",
   "execution_count": 5,
   "id": "9981da9a-2505-4712-a1e1-c0094282c258",
   "metadata": {},
   "outputs": [],
   "source": [
    "df = df_copy.copy()[:size]"
   ]
  },
  {
   "cell_type": "code",
   "execution_count": 6,
   "id": "4b07b45e-fe96-4ec3-9fa5-e20fb1dcb6a4",
   "metadata": {},
   "outputs": [
    {
     "data": {
      "text/plain": [
       "Transaction Ref    False\n",
       "Originator         False\n",
       "Beneficiary        False\n",
       "Type               False\n",
       "Currency           False\n",
       "Value              False\n",
       "Flag               False\n",
       "Fulldate           False\n",
       "Intermediary       False\n",
       "dtype: bool"
      ]
     },
     "execution_count": 6,
     "metadata": {},
     "output_type": "execute_result"
    }
   ],
   "source": [
    "df.isna().any()"
   ]
  },
  {
   "cell_type": "code",
   "execution_count": 7,
   "id": "cc42b363-48e6-49f6-8efe-3c7afa77f29c",
   "metadata": {},
   "outputs": [
    {
     "name": "stdout",
     "output_type": "stream",
     "text": [
      "Wall time: 2.07 s\n"
     ]
    }
   ],
   "source": [
    "%%time\n",
    "df = df_copy.copy()[:size]\n",
    "df['Fulldate'] = pd.to_datetime(df['Fulldate'])\n",
    "\n",
    "df['OriginatorCountry'] = df['Originator'].str.strip().str[4:6]\n",
    "df['IntermediaryCountry'] = df['Intermediary'].str.strip().str[4:6]\n",
    "df['BeneficiaryCountry'] = df['Originator'].str.strip().str[4:6]\n",
    "\n",
    "df['OriginatorCountry_BeneficiaryCountry'] = df['OriginatorCountry']+df['BeneficiaryCountry']\n",
    "df['OriginatorCountry_IntermediaryCountry'] = df['OriginatorCountry']+df['IntermediaryCountry']\n",
    "df['IntermediaryCountry_BeneficiaryCountry'] = df['IntermediaryCountry']+df['BeneficiaryCountry']\n",
    "df['OriginatorCountry_IntermediaryCountry_BeneficiaryCountry'] = df['OriginatorCountry']+df['IntermediaryCountry']+df['BeneficiaryCountry']"
   ]
  },
  {
   "cell_type": "markdown",
   "id": "655b861a-e5d3-453e-83ae-c37839a14ce6",
   "metadata": {},
   "source": [
    "# Features Client"
   ]
  },
  {
   "cell_type": "code",
   "execution_count": 8,
   "id": "14075b31-15bd-465c-a15c-c43f39269133",
   "metadata": {},
   "outputs": [],
   "source": [
    "def getLatency(x,name_col):\n",
    "    return (x[name_col]-x[name_col].shift(1)).dt.total_seconds().fillna(0)"
   ]
  },
  {
   "cell_type": "code",
   "execution_count": 9,
   "id": "d1cfb5a6-9a71-4958-aab3-ace6df4373f4",
   "metadata": {},
   "outputs": [],
   "source": [
    "def get_circuit(x):\n",
    "    return sum(df.loc[x.index,'Beneficiary']==df.loc[x.index,'Intermediary'])"
   ]
  },
  {
   "cell_type": "code",
   "execution_count": 10,
   "id": "b5b465e8-db9c-4b56-90ee-f87a9a998a19",
   "metadata": {},
   "outputs": [],
   "source": [
    "def get_circuit(x):\n",
    "    return sum(x.str[:2]!=x.str[2:4])"
   ]
  },
  {
   "cell_type": "code",
   "execution_count": 11,
   "id": "9a61952a-f306-4fb8-a7fe-02992b24cd8c",
   "metadata": {},
   "outputs": [],
   "source": [
    "def base_features_client(type_client,period,relation):\n",
    "    \n",
    "    cols_start = df.columns\n",
    "    \n",
    "    groupby = []\n",
    "        \n",
    "    if period == '10Days':\n",
    "        groupby = type_client+[pd.Grouper(key='Fulldate', axis=0, freq='10D')]\n",
    "    elif period == 'Month':\n",
    "        groupby = type_client+[pd.Grouper(key='Fulldate', axis=0, freq='30D')]\n",
    "    elif period == 'Global':\n",
    "        groupby = type_client\n",
    "\n",
    "    name = period+'_'+'_'.join(type_client)\n",
    "    \n",
    "    print(groupby)\n",
    "    #FREQUENCY\n",
    "    #print('frequency')\n",
    "    \n",
    "    df['frequency_'+name] = df.groupby(groupby)['Value'].transform('count')\n",
    "    \n",
    "    #AMOUNT\n",
    "    #print('amount')\n",
    "    \n",
    "    df['sum_value_'+name] = df.groupby(groupby)['Value'].transform('sum')\n",
    "    df['max_value_'+name] = df.groupby(groupby)['Value'].transform('max')\n",
    "    df['min_value_'+name] = df.groupby(groupby)['Value'].transform('min')\n",
    "    df['avg_value_'+name] = df.groupby(groupby)['Value'].transform('sum')/df['frequency_'+name]\n",
    "    \n",
    "    if relation == False:\n",
    "        # LATENCY\n",
    "        #print('latency')\n",
    "        df['latency_'+name] = df.groupby(groupby, as_index=False).apply(getLatency,name_col='Fulldate').reset_index(level=0, drop=True)\n",
    "\n",
    "\n",
    "        # NB RELATION\n",
    "        #print('nb relation')\n",
    "        if type_client[0] == 'Originator':\n",
    "            df['number_relation_'+name] = df.groupby(['Originator'])['Beneficiary'].transform('nunique')\n",
    "        elif type_client[0] =='Beneficiary':\n",
    "            df['number_relation_'+name] = df.groupby(['Beneficiary'])['Originator'].transform('nunique')\n",
    "        \n",
    "    # NB OF DISTINCT CURRENCY\n",
    "    #print('currency 1')\n",
    "    \n",
    "    df['number_distinct_currency_'+name] = df.groupby(['Originator'])['Currency'].transform('nunique')\n",
    "    \n",
    "    # NB WITH CURRENT CURRENCY\n",
    "    #print('currency 2')\n",
    "        \n",
    "    df['frequency_with_currency_'+name] = df.groupby(groupby+['Currency'])['Value'].transform('count')\n",
    "    \n",
    "    if relation == False:\n",
    "    \n",
    "        # NB OF DISTINCT COUNTRIES\n",
    "        #print('country 1')\n",
    "\n",
    "        if type_client[0] == 'Originator' :\n",
    "            df['number_distinct_country_'+name] = df.groupby(['Originator'])['BeneficiaryCountry'].transform('nunique')\n",
    "        elif type_client[0] =='Beneficiary':\n",
    "            df['number_distinct_country_'+name] = df.groupby(['Beneficiary'])['OriginatorCountry'].transform('nunique')\n",
    "\n",
    "        # NB WITH CURRENT COUNTRY\n",
    "       # print('country 2')\n",
    "\n",
    "        if type_client[0] == 'Originator':\n",
    "            df['frequency_to_Beneficiary_Country_'+name] = df.groupby(groupby+['BeneficiaryCountry'])['Value'].transform('count')\n",
    "\n",
    "        elif type_client[0] =='Beneficiary':\n",
    "            df['frequency_to_Originator_Country_'+name] = df.groupby(groupby+['OriginatorCountry'])['Value'].transform('count')\n",
    "\n",
    "\n",
    "        # NB WITH INTERMEDIATE\n",
    "        #print('intermediary 1')\n",
    "\n",
    "        if type_client[0] == 'Originator':\n",
    "            df['number_with_intermediary_'+name] = df.groupby(['Originator'])['IntermediaryCountry_BeneficiaryCountry'].transform(get_circuit)\n",
    "        elif type_client[0] =='Beneficiary' :\n",
    "            df['number_with_intermediary_'+name] = df.groupby(['Beneficiary'])['IntermediaryCountry_BeneficiaryCountry'].transform(get_circuit)\n",
    "\n",
    "        # NB DISTINCT CIRCRUIT\n",
    "        #print('intermediary 2')\n",
    "\n",
    "        if type_client[0] == 'Originator':\n",
    "            df['number_dinstinct_circuit_with_intermediary_'+name] = df.groupby(['Originator'])['IntermediaryCountry_BeneficiaryCountry'].transform('nunique')\n",
    "        elif type_client[0] =='Beneficiary':\n",
    "            df['number_dinstinct_circuit_with_intermediary_'+name] = df.groupby(['Beneficiary'])['OriginatorCountry_IntermediaryCountry'].transform('nunique')\n",
    "\n",
    "        # NB CURRENT CIRCRUIT\n",
    "        #print('intermediary 3')\n",
    "\n",
    "        if type_client[0] == 'Originator':\n",
    "            df['number_current_circuit_with_intermediary_'+name] = df.groupby(['Originator','IntermediaryCountry_BeneficiaryCountry'])['Value'].transform('count')\n",
    "        elif type_client[0] =='Beneficiary':\n",
    "            df['number_current_circuit_with_intermediary_'+name] = df.groupby(['Beneficiary','OriginatorCountry_IntermediaryCountry'])['Value'].transform('count')\n",
    "\n",
    "    \n",
    "    cols_end = df.columns\n",
    "    \n",
    "    new_cols = list(set(cols_end) - set(cols_start))\n",
    "    \n",
    "    return new_cols"
   ]
  },
  {
   "cell_type": "code",
   "execution_count": 12,
   "id": "85c08cd7-332c-43d3-a27d-7734721be56d",
   "metadata": {},
   "outputs": [
    {
     "name": "stdout",
     "output_type": "stream",
     "text": [
      "['Beneficiary']\n",
      "['Beneficiary', TimeGrouper(key='Fulldate', freq=<10 * Days>, axis=0, sort=True, closed='left', label='left', how='mean', convention='e', base=0)]\n",
      "['Beneficiary', TimeGrouper(key='Fulldate', freq=<30 * Days>, axis=0, sort=True, closed='left', label='left', how='mean', convention='e', base=0)]\n",
      "['Originator']\n",
      "['Originator', TimeGrouper(key='Fulldate', freq=<10 * Days>, axis=0, sort=True, closed='left', label='left', how='mean', convention='e', base=0)]\n",
      "['Originator', TimeGrouper(key='Fulldate', freq=<30 * Days>, axis=0, sort=True, closed='left', label='left', how='mean', convention='e', base=0)]\n",
      "['Intermediary']\n",
      "['Intermediary', TimeGrouper(key='Fulldate', freq=<10 * Days>, axis=0, sort=True, closed='left', label='left', how='mean', convention='e', base=0)]\n",
      "['Intermediary', TimeGrouper(key='Fulldate', freq=<30 * Days>, axis=0, sort=True, closed='left', label='left', how='mean', convention='e', base=0)]\n",
      "['Originator', 'Beneficiary']\n",
      "['Originator', 'Beneficiary', TimeGrouper(key='Fulldate', freq=<10 * Days>, axis=0, sort=True, closed='left', label='left', how='mean', convention='e', base=0)]\n",
      "['Originator', 'Beneficiary', TimeGrouper(key='Fulldate', freq=<30 * Days>, axis=0, sort=True, closed='left', label='left', how='mean', convention='e', base=0)]\n",
      "['Originator', 'Intermediary']\n",
      "['Originator', 'Intermediary', TimeGrouper(key='Fulldate', freq=<10 * Days>, axis=0, sort=True, closed='left', label='left', how='mean', convention='e', base=0)]\n",
      "['Originator', 'Intermediary', TimeGrouper(key='Fulldate', freq=<30 * Days>, axis=0, sort=True, closed='left', label='left', how='mean', convention='e', base=0)]\n",
      "['Intermediary', 'Beneficiary']\n",
      "['Intermediary', 'Beneficiary', TimeGrouper(key='Fulldate', freq=<10 * Days>, axis=0, sort=True, closed='left', label='left', how='mean', convention='e', base=0)]\n",
      "['Intermediary', 'Beneficiary', TimeGrouper(key='Fulldate', freq=<30 * Days>, axis=0, sort=True, closed='left', label='left', how='mean', convention='e', base=0)]\n",
      "Wall time: 3min 34s\n"
     ]
    }
   ],
   "source": [
    "%%time \n",
    "\n",
    "array = []\n",
    "name_configuration = []\n",
    "\n",
    "array.append(base_features_client(['Beneficiary'],'Global',False))\n",
    "array.append(base_features_client(['Beneficiary'],'10Days',False))\n",
    "array.append(base_features_client(['Beneficiary'],'Month',False))\n",
    "name_configuration.append('Beneficiary-Global')\n",
    "name_configuration.append('Beneficiary-10Days')\n",
    "name_configuration.append('Beneficiary-Month')\n",
    "\n",
    "array.append(base_features_client(['Originator'],'Global',False))\n",
    "array.append(base_features_client(['Originator'],'10Days',False))\n",
    "array.append(base_features_client(['Originator'],'Month',False))\n",
    "name_configuration.append('Originator-Global')\n",
    "name_configuration.append('Originator-10Days')\n",
    "name_configuration.append('Originator-Month')\n",
    "\n",
    "array.append(base_features_client(['Intermediary'],'Global',False))\n",
    "array.append(base_features_client(['Intermediary'],'10Days',False))\n",
    "array.append(base_features_client(['Intermediary'],'Month',False))\n",
    "name_configuration.append('Intermediary-Global')\n",
    "name_configuration.append('Intermediary-10Days')\n",
    "name_configuration.append('Intermediary-Month')\n",
    "\n",
    "array.append(base_features_client(['Originator','Beneficiary'],'Global',True))\n",
    "array.append(base_features_client(['Originator','Beneficiary'],'10Days',True))\n",
    "array.append(base_features_client(['Originator','Beneficiary'],'Month',True))\n",
    "name_configuration.append('Originator-Beneficiary-Global')\n",
    "name_configuration.append('Originator-Beneficiary-10Days')\n",
    "name_configuration.append('Originator-Beneficiary-Month')\n",
    "\n",
    "array.append(base_features_client(['Originator','Intermediary'],'Global',True))\n",
    "array.append(base_features_client(['Originator','Intermediary'],'10Days',True))\n",
    "array.append(base_features_client(['Originator','Intermediary'],'Month',True))\n",
    "name_configuration.append('Originator-Intermediary-Global')\n",
    "name_configuration.append('Originator-Intermediary-10Days')\n",
    "name_configuration.append('Originator-Intermediary-Month')\n",
    "\n",
    "array.append(base_features_client(['Intermediary','Beneficiary'],'Global',True))\n",
    "array.append(base_features_client(['Intermediary','Beneficiary'],'10Days',True))\n",
    "array.append(base_features_client(['Intermediary','Beneficiary'],'Month',True))\n",
    "name_configuration.append('Intermediary-Beneficiary-Global')\n",
    "name_configuration.append('Intermediary-Beneficiary-10Days')\n",
    "name_configuration.append('Intermediary-Beneficiary-Month')"
   ]
  },
  {
   "cell_type": "markdown",
   "id": "66e21503-ef47-44ee-9500-456933dc7b56",
   "metadata": {},
   "source": [
    "# Features Category"
   ]
  },
  {
   "cell_type": "code",
   "execution_count": 13,
   "id": "8de679a5-68a8-4352-bba9-a29ed7f93aca",
   "metadata": {},
   "outputs": [],
   "source": [
    "def base_features_transaction(column,period):\n",
    "    \n",
    "    cols_start = df.columns\n",
    "        \n",
    "    if period == '10Days':\n",
    "        groupby = [column,pd.Grouper(key=name_col_date, axis=0, freq='10D')]\n",
    "    elif period == 'Month':\n",
    "        groupby = [column,pd.Grouper(key=name_col_date, axis=0, freq='30D')]\n",
    "    elif period == 'Global':\n",
    "        groupby = column\n",
    "\n",
    "    name = period+'_'+'_'.join(column)\n",
    "    \n",
    "    #FREQUENCY\n",
    "    #print('frequency')\n",
    "    \n",
    "    df['frequency_'+name] = df.groupby(groupby)['Value'].transform('count')\n",
    "    \n",
    "    #AMOUNT\n",
    "    #print('amount')\n",
    "    \n",
    "    df['sum_value_'+name] = df.groupby(groupby)['Value'].transform('sum')\n",
    "    df['max_value_'+name] = df.groupby(groupby)['Value'].transform('max')\n",
    "    df['min_value_'+name] = df.groupby(groupby)['Value'].transform('min')\n",
    "    df['avg_value_'+name] = df.groupby(groupby)['Value'].transform('sum')/df['frequency_'+name]\n",
    "    \n",
    "    # LATENCY\n",
    "    #print('latency')\n",
    "    df['latency_'+name] = df.groupby(groupby, as_index=False).apply(getLatency,name_col='Fulldate').reset_index(level=0, drop=True)\n",
    "    \n",
    "    # NB RELATION\n",
    "    #print('nb relation')\n",
    "    df['number_relation_originator_'+name] = df.groupby(groupby)['Originator'].transform('nunique')\n",
    "    df['number_relation_beneficiary_'+name] = df.groupby(groupby)['Beneficiary'].transform('nunique')\n",
    "    df['number_relation_intermediary_'+name] = df.groupby(groupby)['Intermediary'].transform('nunique')\n",
    "        \n",
    "    # NB OF DISTINCT CURRENCY\n",
    "    #print('currency ')\n",
    "    \n",
    "    if column != 'Currency':\n",
    "        df['number_distinct_currency_'+name] = df.groupby(groupby)['Currency'].transform('nunique')\n",
    "        df['frequency_with_currency_'+name] = df.groupby(groupby+['Currency'])['Value'].transform('count')\n",
    "    \n",
    "    \n",
    "    # NB OF DISTINCT COUNTRIES\n",
    "    #print('country 1')\n",
    "    \n",
    "    if column not in ['OriginatorCountry','BeneficiaryCountry','IntermediaryCountry']:\n",
    "        df['number_distinct_originator_country_'+name] = df.groupby(groupby)['OriginatorCountry'].transform('nunique')\n",
    "        df['number_distinct_beneficiary_country_'+name] = df.groupby(groupby)['BeneficiaryCountry'].transform('nunique')\n",
    "        df['number_distinct_intermediary_country_'+name] = df.groupby(groupby)['IntermediaryCountry'].transform('nunique')\n",
    "        \n",
    "        df['number_current_originator_country_'+name] = df.groupby(groupby)['OriginatorCountry'].transform('count')\n",
    "        df['number_current_beneficiary_country_'+name] = df.groupby(groupby)['BeneficiaryCountry'].transform('count')\n",
    "        df['number_current_intermediary_country_'+name] = df.groupby(groupby)['IntermediaryCountry'].transform('count')\n",
    "            \n",
    "    \n",
    "    # NB WITH INTERMEDIATE\n",
    "    #print('intermediary 1')\n",
    "    df['number_with_intermediary_'+name] = df.groupby(groupby)['IntermediaryCountry_BeneficiaryCountry'].transform(get_circuit)\n",
    "    \n",
    "    # NB DISTINCT CIRCRUIT\n",
    "    #print('intermediary 2')\n",
    "    \n",
    "    df['number_dinstinct_circuit_with_intermediary_'+name] = df.groupby(groupby)['IntermediaryCountry_BeneficiaryCountry'].transform('nunique')\n",
    "        \n",
    "    # NB CURRENT CIRCRUIT\n",
    "    #print('intermediary 3')\n",
    "    \n",
    "    df['number_current_circuit_intermediaryCountry_beneficiaryCountry_'+name] = df.groupby(groupby+['IntermediaryCountry_BeneficiaryCountry'])['Value'].transform('count')\n",
    "    df['number_current_circuit_originatorCountry_intermediaryCountry_'+name] = df.groupby(groupby+['OriginatorCountry_IntermediaryCountry'])['Value'].transform('count')\n",
    "    df['number_current_circuit_originatorCountry_beneficiaryCountry_'+name] = df.groupby(groupby+['OriginatorCountry_BeneficiaryCountry'])['Value'].transform('count')\n",
    "    df['number_current_circuit_originatorCountry_intermediaryCountry_beneficiaryCountry_'+name] = df.groupby(groupby+['OriginatorCountry_IntermediaryCountry_BeneficiaryCountry'])['Value'].transform('count')\n",
    "    \n",
    "    cols_end = df.columns\n",
    "    \n",
    "    new_cols = list(set(cols_end) - set(cols_start))\n",
    "    \n",
    "    return new_cols\n",
    "        "
   ]
  },
  {
   "cell_type": "code",
   "execution_count": 14,
   "id": "32691512-ec9c-4320-b99c-8fa809952c3a",
   "metadata": {},
   "outputs": [
    {
     "name": "stdout",
     "output_type": "stream",
     "text": [
      "Wall time: 1min 46s\n"
     ]
    }
   ],
   "source": [
    "%%time\n",
    "\n",
    "\n",
    "base_feature = []\n",
    "array.append(base_features_transaction(['Currency'],'Global'))\n",
    "name_configuration.append('Currency-Global')\n",
    "array.append(base_features_transaction(['OriginatorCountry'],'Global'))\n",
    "name_configuration.append('OriginatorCountry-Global')\n",
    "array.append(base_features_transaction(['BeneficiaryCountry'],'Global'))\n",
    "name_configuration.append('BeneficiaryCountry-Global')\n",
    "array.append(base_features_transaction(['IntermediaryCountry'],'Global'))\n",
    "name_configuration.append('IntermediaryCountry-Global')\n",
    "array.append(base_features_transaction(['Type'],'Global'))\n",
    "name_configuration.append('Type-Global')\n"
   ]
  },
  {
   "cell_type": "markdown",
   "id": "5ff85a14-7b4f-4dee-9302-3aeefb9cd9ca",
   "metadata": {},
   "source": [
    "# Transaction Features"
   ]
  },
  {
   "cell_type": "code",
   "execution_count": 15,
   "id": "a3ec6bd6-6287-4d69-8c92-9b5637ad8b20",
   "metadata": {},
   "outputs": [],
   "source": [
    "\n",
    "\n",
    "base_feature.extend(list(df_copy.select_dtypes(include=np.number).columns))\n",
    "cols_start = df.columns\n",
    "\n",
    "df['Hour'] = df['Fulldate'].dt.hour\n",
    "df['Week_of_year'] = df['Fulldate'].dt.week\n",
    "df['day_of_week'] = df['Fulldate'].dt.dayofweek\n",
    "df['day_of_year'] = df['Fulldate'].dt.dayofyear\n",
    "df['quarter'] = df['Fulldate'].dt.quarter\n",
    "df['year'] = df['Fulldate'].dt.year\n",
    "df['month'] = df['Fulldate'].dt.month\n",
    "df['day'] = df['Fulldate'].dt.day\n",
    "df['is_month_start'] = df['Fulldate'].dt.is_month_start\n",
    "df['is_month_start'] = df['is_month_start'].map({True: 1, False:0})\n",
    "df['is_month_end'] = df['Fulldate'].dt.is_month_end\n",
    "df['is_month_end'] = df['is_month_end'].map({True: 1, False:0})\n",
    "cols_end = df.columns          \n",
    "new_cols = list(set(cols_end) - set(cols_start))\n",
    "\n",
    "base_feature.extend(new_cols)"
   ]
  },
  {
   "cell_type": "code",
   "execution_count": 16,
   "id": "3f3abc32-95e6-4a7d-ab47-04cc9e485e86",
   "metadata": {},
   "outputs": [
    {
     "data": {
      "text/plain": [
       "Transaction Ref    False\n",
       "Originator         False\n",
       "Beneficiary        False\n",
       "Type               False\n",
       "Currency           False\n",
       "                   ...  \n",
       "year               False\n",
       "month              False\n",
       "day                False\n",
       "is_month_start     False\n",
       "is_month_end       False\n",
       "Length: 312, dtype: bool"
      ]
     },
     "execution_count": 16,
     "metadata": {},
     "output_type": "execute_result"
    }
   ],
   "source": [
    "df.isna().any()"
   ]
  },
  {
   "cell_type": "markdown",
   "id": "b6f052cb-bbbd-49e1-a169-392c7fcf80f5",
   "metadata": {},
   "source": [
    "# Classification"
   ]
  },
  {
   "cell_type": "code",
   "execution_count": 17,
   "id": "d83e6d79-4fe0-452a-b47e-9ab3e1e24d26",
   "metadata": {},
   "outputs": [],
   "source": [
    "from sklearn.tree import DecisionTreeClassifier\n",
    "from sklearn.ensemble import RandomForestClassifier\n",
    "from sklearn.metrics import confusion_matrix\n",
    "from sklearn.model_selection import train_test_split\n",
    "from sklearn.metrics import classification_report\n",
    "from sklearn.preprocessing import MinMaxScaler\n",
    "from itertools import combinations\n",
    "from sklearn.metrics import matthews_corrcoef\n",
    "from imblearn.ensemble import BalancedRandomForestClassifier\n",
    "from sklearn.model_selection import GridSearchCV\n",
    "import numpy as npobject"
   ]
  },
  {
   "cell_type": "code",
   "execution_count": 18,
   "id": "90334542-68ef-4a2f-9046-0ac706d9b1b4",
   "metadata": {},
   "outputs": [],
   "source": [
    "X = df.select_dtypes(include=np.number)\n",
    "y = df['Flag']\n",
    "\n",
    "X_train, X_test, y_train, y_test = train_test_split(X, y, test_size=0.2, random_state=42)"
   ]
  },
  {
   "cell_type": "code",
   "execution_count": 19,
   "id": "4a1b0225-e0ab-4e99-b24d-296f8d7277f7",
   "metadata": {},
   "outputs": [
    {
     "name": "stdout",
     "output_type": "stream",
     "text": [
      "0.5855209376457683\n",
      "les fraudes : \n",
      "bien trouvée TP :  462\n",
      "pas trouvée FN :  240\n",
      "les normaux\n",
      "bien trouvée TN :  198878\n",
      "pas trouvée FP :  420\n",
      "Wall time: 4min 23s\n"
     ]
    },
    {
     "data": {
      "text/plain": [
       "{'False': {'precision': 0.9987946845589047,\n",
       "  'recall': 0.9978926030366587,\n",
       "  'f1-score': 0.9983434400224891,\n",
       "  'support': 199298},\n",
       " 'True': {'precision': 0.5238095238095238,\n",
       "  'recall': 0.6581196581196581,\n",
       "  'f1-score': 0.5833333333333334,\n",
       "  'support': 702},\n",
       " 'accuracy': 0.9967,\n",
       " 'macro avg': {'precision': 0.7613021041842143,\n",
       "  'recall': 0.8280061305781584,\n",
       "  'f1-score': 0.7908383866779112,\n",
       "  'support': 200000},\n",
       " 'weighted avg': {'precision': 0.9971274866446745,\n",
       "  'recall': 0.9967,\n",
       "  'f1-score': 0.9968867545480102,\n",
       "  'support': 200000}}"
      ]
     },
     "execution_count": 19,
     "metadata": {},
     "output_type": "execute_result"
    }
   ],
   "source": [
    "%%time\n",
    "\n",
    "model = DecisionTreeClassifier()\n",
    "\n",
    "model.fit(X_train, y_train)\n",
    "\n",
    "y_pred = model.predict(X_test)\n",
    "\n",
    "print(matthews_corrcoef(y_test, y_pred))\n",
    "report = classification_report(y_test,y_pred,output_dict=True )\n",
    "CM = confusion_matrix(y_test, y_pred)\n",
    "\n",
    "\n",
    "TN = CM[0][0]\n",
    "FN = CM[1][0]\n",
    "TP = CM[1][1]\n",
    "FP = CM[0][1]\n",
    "print('les fraudes : ')\n",
    "print('bien trouvée TP : ',TP)\n",
    "print('pas trouvée FN : ',FN) \n",
    "print('les normaux')\n",
    "print('bien trouvée TN : ',TN)\n",
    "print('pas trouvée FP : ',FP)\n",
    "report"
   ]
  },
  {
   "cell_type": "code",
   "execution_count": 20,
   "id": "95106068-2e8f-40f0-88c8-f841a04c0698",
   "metadata": {},
   "outputs": [
    {
     "name": "stdout",
     "output_type": "stream",
     "text": [
      "0.7355223224980376\n",
      "les fraudes : \n",
      "bien trouvée TP :  417\n",
      "pas trouvée FN :  285\n",
      "les normaux\n",
      "bien trouvée TN :  199258\n",
      "pas trouvée FP :  40\n",
      "Wall time: 4min 45s\n"
     ]
    },
    {
     "data": {
      "text/plain": [
       "{'False': {'precision': 0.9985717364177145,\n",
       "  'recall': 0.9997992955273008,\n",
       "  'f1-score': 0.999185138940079,\n",
       "  'support': 199298},\n",
       " 'True': {'precision': 0.912472647702407,\n",
       "  'recall': 0.594017094017094,\n",
       "  'f1-score': 0.7195858498705779,\n",
       "  'support': 702},\n",
       " 'accuracy': 0.998375,\n",
       " 'macro avg': {'precision': 0.9555221920600607,\n",
       "  'recall': 0.7969081947721974,\n",
       "  'f1-score': 0.8593854944053285,\n",
       "  'support': 200000},\n",
       " 'weighted avg': {'precision': 0.9982695286163238,\n",
       "  'recall': 0.998375,\n",
       "  'f1-score': 0.998203745435445,\n",
       "  'support': 200000}}"
      ]
     },
     "execution_count": 20,
     "metadata": {},
     "output_type": "execute_result"
    }
   ],
   "source": [
    "%%time\n",
    "\n",
    "modelRF = RandomForestClassifier(n_estimators=30,bootstrap = True,max_features = 'sqrt')\n",
    "\n",
    "modelRF.fit(X_train, y_train)\n",
    "\n",
    "y_pred = modelRF.predict(X_test)\n",
    "print(matthews_corrcoef(y_test, y_pred))\n",
    "report = classification_report(y_test,y_pred,output_dict=True )\n",
    "report\n",
    "CM = confusion_matrix(y_test, y_pred)\n",
    "\n",
    "TN = CM[0][0]\n",
    "FN = CM[1][0]\n",
    "TP = CM[1][1]\n",
    "FP = CM[0][1]\n",
    "print('les fraudes : ')\n",
    "print('bien trouvée TP : ',TP)\n",
    "print('pas trouvée FN : ',FN)\n",
    "print('les normaux')\n",
    "print('bien trouvée TN : ',TN)\n",
    "print('pas trouvée FP : ',FP)\n",
    "report"
   ]
  },
  {
   "cell_type": "code",
   "execution_count": 21,
   "id": "2323b6ab-5d43-4580-9405-0a470d93661d",
   "metadata": {},
   "outputs": [
    {
     "name": "stdout",
     "output_type": "stream",
     "text": [
      "[10:20:24] WARNING: C:\\Users\\Administrator\\workspace\\xgboost-win64_release_1.1.0\\src\\learner.cc:480: \n",
      "Parameters: { estimators } might not be used.\n",
      "\n",
      "  This may not be accurate due to some parameters are only used in language bindings but\n",
      "  passed down to XGBoost core.  Or some parameters are not used but slip through this\n",
      "  verification. Please open an issue if you find above cases.\n",
      "\n",
      "\n",
      "0.7716291244570288\n",
      "les fraudes : \n",
      "bien trouvée TP :  463\n",
      "pas trouvée FN :  239\n",
      "les normaux\n",
      "bien trouvée TN :  199249\n",
      "pas trouvée FP :  49\n",
      "Wall time: 3min 18s\n"
     ]
    },
    {
     "data": {
      "text/plain": [
       "{'False': {'precision': 0.9988019329483477,\n",
       "  'recall': 0.9997541370209435,\n",
       "  'f1-score': 0.9992778081477284,\n",
       "  'support': 199298},\n",
       " 'True': {'precision': 0.904296875,\n",
       "  'recall': 0.6595441595441596,\n",
       "  'f1-score': 0.7627677100494235,\n",
       "  'support': 702},\n",
       " 'accuracy': 0.99856,\n",
       " 'macro avg': {'precision': 0.9515494039741739,\n",
       "  'recall': 0.8296491482825515,\n",
       "  'f1-score': 0.881022759098576,\n",
       "  'support': 200000},\n",
       " 'weighted avg': {'precision': 0.998470220194949,\n",
       "  'recall': 0.99856,\n",
       "  'f1-score': 0.9984476577034033,\n",
       "  'support': 200000}}"
      ]
     },
     "execution_count": 21,
     "metadata": {},
     "output_type": "execute_result"
    }
   ],
   "source": [
    "%%time\n",
    "\n",
    "import xgboost as xgb\n",
    "\n",
    "\n",
    "xgb_model = xgb.XGBClassifier(estimators=2,objective=\"binary:logistic\")\n",
    "xgb_model.fit(X_train, y_train)\n",
    "\n",
    "\n",
    "y_pred = xgb_model.predict(X_test)\n",
    "\n",
    "print(matthews_corrcoef(y_test, y_pred))\n",
    "\n",
    "report = classification_report(y_test,y_pred,output_dict=True )\n",
    "report\n",
    "CM = confusion_matrix(y_test, y_pred)\n",
    "\n",
    "TN = CM[0][0]\n",
    "FN = CM[1][0]\n",
    "TP = CM[1][1]\n",
    "FP = CM[0][1]\n",
    "print('les fraudes : ')\n",
    "print('bien trouvée TP : ',TP)\n",
    "print('pas trouvée FN : ',FN)\n",
    "print('les normaux')\n",
    "print('bien trouvée TN : ',TN)\n",
    "print('pas trouvée FP : ',FP)\n",
    "report\n"
   ]
  },
  {
   "cell_type": "markdown",
   "id": "e3fd735e-04a4-403a-9214-e669a69dda5f",
   "metadata": {},
   "source": [
    "# Approche"
   ]
  },
  {
   "cell_type": "code",
   "execution_count": 22,
   "id": "967feae1-c5e8-4600-bdc5-1f35a6c8ad8e",
   "metadata": {},
   "outputs": [
    {
     "name": "stdout",
     "output_type": "stream",
     "text": [
      "Beneficiary-Global base &  0.51 & 0.61 & 0.55 \\\\ \\hline\n",
      "Beneficiary-10Days base &  0.47 & 0.57 & 0.51 \\\\ \\hline\n",
      "Beneficiary-Month base &  0.47 & 0.57 & 0.52 \\\\ \\hline\n",
      "Originator-Global base &  0.2 & 0.26 & 0.23 \\\\ \\hline\n",
      "Originator-10Days base &  0.22 & 0.3 & 0.26 \\\\ \\hline\n",
      "Originator-Month base &  0.21 & 0.28 & 0.24 \\\\ \\hline\n",
      "Intermediary-Global base &  0.36 & 0.43 & 0.39 \\\\ \\hline\n",
      "Intermediary-10Days base &  0.21 & 0.25 & 0.23 \\\\ \\hline\n",
      "Intermediary-Month base &  0.25 & 0.31 & 0.28 \\\\ \\hline\n",
      "Originator-Beneficiary-Global base &  0.53 & 0.62 & 0.58 \\\\ \\hline\n",
      "Originator-Beneficiary-10Days base &  0.32 & 0.41 & 0.36 \\\\ \\hline\n",
      "Originator-Beneficiary-Month base &  0.51 & 0.59 & 0.55 \\\\ \\hline\n",
      "Originator-Intermediary-Global base &  0.38 & 0.49 & 0.43 \\\\ \\hline\n",
      "Originator-Intermediary-10Days base &  0.25 & 0.33 & 0.29 \\\\ \\hline\n",
      "Originator-Intermediary-Month base &  0.3 & 0.38 & 0.33 \\\\ \\hline\n",
      "Intermediary-Beneficiary-Global base &  0.41 & 0.49 & 0.45 \\\\ \\hline\n",
      "Intermediary-Beneficiary-10Days base &  0.29 & 0.33 & 0.31 \\\\ \\hline\n",
      "Intermediary-Beneficiary-Month base &  0.27 & 0.33 & 0.3 \\\\ \\hline\n",
      "Currency-Global base &  0.2 & 0.25 & 0.22 \\\\ \\hline\n",
      "OriginatorCountry-Global base &  0.21 & 0.29 & 0.25 \\\\ \\hline\n",
      "BeneficiaryCountry-Global base &  0.21 & 0.28 & 0.24 \\\\ \\hline\n",
      "IntermediaryCountry-Global base &  0.21 & 0.27 & 0.23 \\\\ \\hline\n",
      "Type-Global base &  0.24 & 0.29 & 0.26 \\\\ \\hline\n",
      "Wall time: 19min 21s\n"
     ]
    }
   ],
   "source": [
    "%%time\n",
    "y_pred_array = []\n",
    "y_pred_array_f1_score = []\n",
    "models = []\n",
    "models_f1_score = []\n",
    "\n",
    "tree_param = {'criterion':['gini','entropy'], 'class_weight':[{0: w} for w in [2,10]]+[None]}\n",
    "\n",
    "for idx,cols in enumerate(name_configuration):\n",
    "    gs = GridSearchCV(DecisionTreeClassifier(), tree_param,scoring='f1_micro', n_jobs=-1, cv=2)\n",
    "    model = gs.fit(X_train[array[idx]+base_feature], y_train)\n",
    "    # model = DecisionTreeClassifier(criterion = 'gini')\n",
    "    model.fit(X_train[array[idx]+base_feature], y_train)\n",
    "    models.append(model)\n",
    "    \n",
    "    y_pred = model.predict(X_test[array[idx]+base_feature])\n",
    "    \n",
    "    report = classification_report(y_test,y_pred,output_dict=True )\n",
    "\n",
    "    models_f1_score.append(report['True']['f1-score'])\n",
    "    y_pred_array.append(np.multiply(y_pred, 1))\n",
    "    y_pred_array_f1_score.append(np.multiply(y_pred, round(report['True']['f1-score'],2)))\n",
    "    \n",
    "    print(name_configuration[idx], 'base & ',round(report['True']['precision'],2),'&',round(report['True']['recall'],2),'&',round(report['True']['f1-score'],2),'\\\\\\ \\hline')"
   ]
  },
  {
   "cell_type": "code",
   "execution_count": 26,
   "id": "bb071aeb-3a53-4cfb-b33b-358bc474fbc6",
   "metadata": {},
   "outputs": [
    {
     "name": "stderr",
     "output_type": "stream",
     "text": [
      "c:\\users\\hamza\\appdata\\local\\programs\\python\\python37\\lib\\site-packages\\ipykernel_launcher.py:16: RuntimeWarning: divide by zero encountered in true_divide\n",
      "  app.launch_new_instance()\n",
      "c:\\users\\hamza\\appdata\\local\\programs\\python\\python37\\lib\\site-packages\\ipykernel_launcher.py:16: RuntimeWarning: invalid value encountered in multiply\n",
      "  app.launch_new_instance()\n"
     ]
    },
    {
     "name": "stdout",
     "output_type": "stream",
     "text": [
      "----------------\n",
      "f1 :  0.8923482396652576\n",
      "mcc :  0.7900779565058965\n",
      "max :  1.0\n",
      "gap :  0.02\n",
      "best threshold :  0.56\n",
      "----------------\n",
      "Wall time: 29.5 s\n"
     ]
    },
    {
     "data": {
      "text/plain": [
       "{'False': {'precision': 0.9989571007400574,\n",
       "  'recall': 0.9996889080673163,\n",
       "  'f1-score': 0.9993228704274945,\n",
       "  'support': 199298},\n",
       " 'True': {'precision': 0.8884892086330936,\n",
       "  'recall': 0.7037037037037037,\n",
       "  'f1-score': 0.7853736089030208,\n",
       "  'support': 702},\n",
       " 'accuracy': 0.99865,\n",
       " 'macro avg': {'precision': 0.9437231546865754,\n",
       "  'recall': 0.85169630588551,\n",
       "  'f1-score': 0.8923482396652576,\n",
       "  'support': 200000},\n",
       " 'weighted avg': {'precision': 0.998569358438762,\n",
       "  'recall': 0.99865,\n",
       "  'f1-score': 0.9985719085195435,\n",
       "  'support': 200000}}"
      ]
     },
     "execution_count": 26,
     "metadata": {},
     "output_type": "execute_result"
    }
   ],
   "source": [
    "%%time\n",
    "\n",
    "maxF1 = 0\n",
    "maxMCC = 0\n",
    "alphaMax = 0\n",
    "threshold = 0\n",
    "listf1 = []\n",
    "listmcc= []\n",
    "listIndex = []\n",
    "\n",
    "n = np.sum(y_pred_array, 0)\n",
    "xi =  np.sum(y_pred_array_f1_score, 0)\n",
    "xiPI = np.prod(y_pred_array_f1_score, 0)\n",
    "\n",
    "#y_pred_final = xi/n  #arithmetic \n",
    "#y_pred_final = n/1/xi #harmonic\n",
    "#y_pred_final = npobject.power(xiPI,(1/n)) #geometric\n",
    "y_pred_final = np.sqrt(1/n*(xi*xi))  #quadratic\n",
    "\n",
    "y_pred_final[np.isnan(y_pred_final)] = 0.0\n",
    "y_pred_final[np.isneginf (y_pred_final)] = 0.0\n",
    "y_pred_final = np.round(y_pred_final,2)\n",
    "y_pred_final = (y_pred_final - np.min(y_pred_final)) / (np.max(y_pred_final) - np.min(y_pred_final))\n",
    "\n",
    "for i in np.arange(0,np.max(y_pred_final),0.01):\n",
    "    y_pred = np.where(y_pred_final>=i, 1, 0)\n",
    "    report = classification_report(y_test,y_pred,output_dict=True )\n",
    "    listf1.append(report['True']['f1-score'])\n",
    "    listIndex.append(i)\n",
    "    listmcc.append(matthews_corrcoef(y_test, y_pred))\n",
    "\n",
    "    # print( i,' : ',report['True'])\n",
    "if np.max(listf1) > maxF1:\n",
    "    maxF1 = np.max(listf1)\n",
    "    threshold = listIndex[np.argmax(listf1)]\n",
    "    maxMCC = listmcc[np.argmax(listf1)]\n",
    "    \n",
    "print('----------------')\n",
    "\n",
    "y_pred = np.where(y_pred_final>=threshold, 1, 0)\n",
    "report = classification_report(y_test,y_pred,output_dict=True )\n",
    "print('f1 : ',report['macro avg']['f1-score'])\n",
    "print('mcc : ',maxMCC)\n",
    "print('max : ',np.max(y_pred_final))\n",
    "print('gap : ',np.max(y_pred_final)/50)\n",
    "print('best threshold : ',threshold)\n",
    "print('----------------')\n",
    "report\n",
    "\n"
   ]
  },
  {
   "cell_type": "code",
   "execution_count": 27,
   "id": "27af8171-0411-4e38-abf4-db5f7c76d6c8",
   "metadata": {},
   "outputs": [
    {
     "name": "stdout",
     "output_type": "stream",
     "text": [
      "(  0.0  ,  0.5  )\n",
      "(  0.1  ,  0.92  )\n",
      "(  0.2  ,  0.92  )\n",
      "(  0.3  ,  0.91  )\n",
      "(  0.4  ,  0.89  )\n",
      "(  0.5  ,  0.87  )\n",
      "(  0.6  ,  0.83  )\n",
      "(  0.7  ,  0.79  )\n",
      "(  0.8  ,  0.7  )\n",
      "(  0.9  ,  0.57  )\n",
      "(  1.0  ,  0.52  )\n"
     ]
    }
   ],
   "source": [
    "y_pred_final[np.isnan(y_pred_final)] = 0.0\n",
    "y_pred_final[np.isneginf (y_pred_final)] = 0.0\n",
    "y_pred_final = np.round(y_pred_final,2)\n",
    "y_pred_final = (y_pred_final - np.min(y_pred_final)) / (np.max(y_pred_final) - np.min(y_pred_final))\n",
    "\n",
    "for i in np.arange(0,1.1,0.1):\n",
    "    y_pred = np.where(y_pred_final>=i, 1, 0)\n",
    "    report = classification_report(y_test,y_pred,output_dict=True )\n",
    "    listf1.append(report['True']['f1-score'])\n",
    "    print('( ',round(i,2),' , ',round(report['macro avg']['recall'],2),' )')"
   ]
  },
  {
   "cell_type": "markdown",
   "id": "10e52f82-b10b-4e19-8bcb-15bdc7aca9e5",
   "metadata": {},
   "source": [
    "# Scores "
   ]
  },
  {
   "cell_type": "code",
   "execution_count": 28,
   "id": "206b4cee-1fba-4c45-8e02-8999009943a0",
   "metadata": {},
   "outputs": [],
   "source": [
    "arr_conf = []\n",
    "for i in np.transpose(y_pred_array):\n",
    "    arr_conf.append([name_configuration[j] for j,x in enumerate(i) if x>0])"
   ]
  },
  {
   "cell_type": "code",
   "execution_count": 54,
   "id": "49df6f3b-ecee-4ff9-a2ea-4aef563c4b45",
   "metadata": {},
   "outputs": [],
   "source": [
    "new_df = df_copy.loc[X_test.index] \n",
    "new_df['Fraudulent Score'] = y_pred_final\n",
    "new_df['Decision Trees'] = arr_conf\n",
    "new_df = new_df.sort_values(by=['Fraudulent Score'], ascending=False)"
   ]
  },
  {
   "cell_type": "code",
   "execution_count": 217,
   "id": "d4735d5d-e79c-4f64-86f1-63f82e54dfc3",
   "metadata": {},
   "outputs": [
    {
     "name": "stdout",
     "output_type": "stream",
     "text": [
      "442624  &  AQFSTHXX  &  SCGGIDXX  &  SCGGIDXX  &  44599  &  2019-02-13 12:03:00  &  FA8  &  0.14 \\\\ \\hline\n",
      "494182  &  BDCKMLXX  &  ORBJMTXX  &  JNFQUYXX  &  1186919  &  2019-02-19 09:09:00  &  189  &  0.35 \\\\ \\hline\n",
      "60337  &  BFPSSXXX  &  IZJZQAXX  &  IZJZQAXX  &  1417680  &  2019-01-07 10:58:00  &  3CB  &  0.61 \\\\ \\hline\n",
      "66348  &  CGINUYXX  &  KITSUYXX  &  KITSUYXX  &  481758  &  2019-01-07 14:33:00  &  273  &  0.8 \\\\ \\hline\n",
      "192537  &  ATCUIDXX  &  KCXSVIXX  &  KCXSVIXX  &  201231  &  2019-01-18 14:18:00  &  28B  &  0.17 \\\\ \\hline\n"
     ]
    }
   ],
   "source": [
    "arrayIndexFraudulent = list(new_df[new_df['Fraudulent Score']>0].index)\n",
    "arrayIndexFraudulent = sample(arrayIndexFraudulent,5)\n",
    "for i in arrayIndexFraudulent:\n",
    "    row = new_df.loc[i]\n",
    "    print(i,' & ',row['Originator'],' & ',row['Intermediary'],' & ',row['Beneficiary'],' & ',row['Value'],' & ',row['Fulldate'],' & ',row['Currency'],' & ',row['Fraudulent Score'],'\\\\\\ \\hline')"
   ]
  },
  {
   "cell_type": "code",
   "execution_count": 218,
   "id": "1195a171-c494-4b35-bddb-831a659ed007",
   "metadata": {},
   "outputs": [
    {
     "name": "stdout",
     "output_type": "stream",
     "text": [
      "442624  &  0.14  &  ['Intermediary-10Days'] \\\\ \\hline\n",
      "494182  &  0.35  &  ['Originator-Beneficiary-Global'] \\\\ \\hline\n",
      "60337  &  0.61  &  ['Beneficiary-Global', 'Beneficiary-Month', 'Originator-Global', 'Originator-10Days', 'Originator-Month', 'Intermediary-10Days', 'Intermediary-Beneficiary-Month', 'Currency-Global', 'OriginatorCountry-Global', 'BeneficiaryCountry-Global', 'IntermediaryCountry-Global', 'Type-Global'] \\\\ \\hline\n",
      "66348  &  0.8  &  ['Beneficiary-10Days', 'Beneficiary-Month', 'Originator-Global', 'Originator-10Days', 'Originator-Month', 'Intermediary-Global', 'Intermediary-10Days', 'Intermediary-Month', 'Originator-Beneficiary-Month', 'Originator-Intermediary-Global', 'Originator-Intermediary-10Days', 'Intermediary-Beneficiary-Global', 'Intermediary-Beneficiary-10Days', 'Intermediary-Beneficiary-Month'] \\\\ \\hline\n",
      "192537  &  0.17  &  ['Intermediary-Month'] \\\\ \\hline\n"
     ]
    }
   ],
   "source": [
    "for i in arrayIndexFraudulent:\n",
    "    row = new_df.loc[i]\n",
    "    print(i,' & ',row['Fraudulent Score'],' & ',row['Decision Trees'],'\\\\\\ \\hline')"
   ]
  },
  {
   "cell_type": "markdown",
   "id": "ddba8cef-8d89-4862-aed1-84cc0d115da6",
   "metadata": {},
   "source": [
    "# Get Path"
   ]
  },
  {
   "cell_type": "code",
   "execution_count": 304,
   "id": "15e15c83-c1c3-4ebf-91be-8da414cb2876",
   "metadata": {},
   "outputs": [
    {
     "data": {
      "text/plain": [
       "192537"
      ]
     },
     "execution_count": 304,
     "metadata": {},
     "output_type": "execute_result"
    }
   ],
   "source": [
    "arrayIndexFraudulent[4]"
   ]
  },
  {
   "cell_type": "code",
   "execution_count": 296,
   "id": "3171100f-95cc-42c6-938c-2b16e4e8aae6",
   "metadata": {},
   "outputs": [],
   "source": [
    "row = new_df.loc[arrayIndexFraudulent[4]]"
   ]
  },
  {
   "cell_type": "code",
   "execution_count": 297,
   "id": "06daa555-98ed-4dc4-bcb6-ad9adb887849",
   "metadata": {},
   "outputs": [],
   "source": [
    "index_most_fraudulent_transaction = row.name"
   ]
  },
  {
   "cell_type": "code",
   "execution_count": 298,
   "id": "47f2036a-3e3f-4ba8-b186-61820c925341",
   "metadata": {},
   "outputs": [
    {
     "data": {
      "text/plain": [
       "['Intermediary-Month']"
      ]
     },
     "execution_count": 298,
     "metadata": {},
     "output_type": "execute_result"
    }
   ],
   "source": [
    "row['Decision Trees']"
   ]
  },
  {
   "cell_type": "code",
   "execution_count": 299,
   "id": "17e011f3-2c63-4d25-a40f-c6a94c776eae",
   "metadata": {},
   "outputs": [],
   "source": [
    "first_decision_tree = row['Decision Trees'][0]"
   ]
  },
  {
   "cell_type": "code",
   "execution_count": 300,
   "id": "e011a6ea-5ec5-491e-9d22-d8a488ec03a9",
   "metadata": {},
   "outputs": [
    {
     "data": {
      "text/plain": [
       "'Intermediary-Month'"
      ]
     },
     "execution_count": 300,
     "metadata": {},
     "output_type": "execute_result"
    }
   ],
   "source": [
    "first_decision_tree"
   ]
  },
  {
   "cell_type": "code",
   "execution_count": 301,
   "id": "aa5a1452-3541-427b-b860-c5bb1ff99e21",
   "metadata": {},
   "outputs": [],
   "source": [
    "index_model = name_configuration.index(first_decision_tree)"
   ]
  },
  {
   "cell_type": "code",
   "execution_count": 302,
   "id": "6408965d-9485-437c-8437-51544fb7e800",
   "metadata": {},
   "outputs": [
    {
     "data": {
      "text/plain": [
       "array([ True])"
      ]
     },
     "execution_count": 302,
     "metadata": {},
     "output_type": "execute_result"
    }
   ],
   "source": [
    "models[index_model].predict([X_test[array[index_model]+base_feature].loc[index_most_fraudulent_transaction]])"
   ]
  },
  {
   "cell_type": "code",
   "execution_count": 303,
   "id": "7539845a-2c04-45a2-86af-a8893c35bfc6",
   "metadata": {},
   "outputs": [
    {
     "name": "stdout",
     "output_type": "stream",
     "text": [
      "Rules used to predict sample 192173: \n",
      "frequency_Month_Intermediary : 7 > 1.5\n",
      "Value : 201231 <= 442023.5\n",
      "number_distinct_currency_Month_Intermediary : 7 <= 9.5\n",
      "Value : 201231 > 57777.5\n",
      "max_value_Month_Intermediary : 201231 <= 1218307.5\n",
      "latency_Month_Intermediary : 12780.0 > 1050.0\n",
      "Value : 201231 > 153756.5\n",
      "max_value_Month_Intermediary : 201231 <= 667993.0\n",
      "max_value_Month_Intermediary : 201231 <= 667151.5\n",
      "min_value_Month_Intermediary : 14827 <= 293071.5\n",
      "day_of_year : 18 <= 31.5\n",
      "frequency_Month_Intermediary : 7 <= 227.5\n",
      "latency_Month_Intermediary : 12780.0 > 1650.0\n",
      "max_value_Month_Intermediary : 201231 > 154859.5\n",
      "day_of_year : 18 <= 22.5\n",
      "Value : 201231 > 197373.0\n",
      "Value : 201231 > 197741.5\n",
      "max_value_Month_Intermediary : 201231 <= 462673.0\n",
      "frequency_Month_Intermediary : 7 <= 79.5\n",
      "frequency_Month_Intermediary : 7 <= 11.5\n",
      "latency_Month_Intermediary : 12780.0 <= 69630.0\n",
      "avg_value_Month_Intermediary : 80933.71428571429 <= 85308.53125\n",
      "leaf node 1668 reached, no decision here\n"
     ]
    }
   ],
   "source": [
    "estimator = models[index_model].best_estimator_\n",
    "\n",
    "n_nodes = estimator.tree_.node_count\n",
    "children_left = estimator.tree_.children_left\n",
    "children_right = estimator.tree_.children_right\n",
    "feature = estimator.tree_.feature\n",
    "threshold = estimator.tree_.threshold\n",
    "\n",
    "X_test_model = X_test[array[index_model]+base_feature]\n",
    "index_loc = list(X_test_model.index).index(index_most_fraudulent_transaction)\n",
    "node_indicator = estimator.decision_path(X_test_model)\n",
    "\n",
    "leave_id = estimator.apply(X_test_model)\n",
    "\n",
    "\n",
    "# HERE IS WHAT YOU WANT\n",
    "sample_id = index_loc\n",
    "node_index = node_indicator.indices[node_indicator.indptr[sample_id]:\n",
    "                                    node_indicator.indptr[sample_id + 1]]\n",
    "\n",
    "print('Rules used to predict sample %s: ' % sample_id)\n",
    "for node_id in node_index:\n",
    "\n",
    "    if leave_id[sample_id] == node_id:  # <-- changed != to ==\n",
    "        #continue # <-- comment out\n",
    "        print(\"leaf node {} reached, no decision here\".format(leave_id[sample_id])) # <--\n",
    "\n",
    "    else: # < -- added else to iterate through decision nodes\n",
    "        if (X_test_model.iloc[[sample_id], feature[node_id]].iloc[0] <= threshold[node_id]):\n",
    "            threshold_sign = \"<=\"\n",
    "        else:\n",
    "            threshold_sign = \">\"\n",
    "\n",
    "        print(\"%s : %s %s %s\"\n",
    "              % (X_test_model.columns[feature[node_id]],\n",
    "                  X_test_model.iloc[[sample_id], feature[node_id]].iloc[0],\n",
    "                 threshold_sign,\n",
    "                 threshold[node_id]))"
   ]
  }
 ],
 "metadata": {
  "kernelspec": {
   "display_name": "Python 3 (ipykernel)",
   "language": "python",
   "name": "python3"
  },
  "language_info": {
   "codemirror_mode": {
    "name": "ipython",
    "version": 3
   },
   "file_extension": ".py",
   "mimetype": "text/x-python",
   "name": "python",
   "nbconvert_exporter": "python",
   "pygments_lexer": "ipython3",
   "version": "3.7.0"
  }
 },
 "nbformat": 4,
 "nbformat_minor": 5
}
