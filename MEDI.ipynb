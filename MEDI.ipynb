{
 "cells": [
  {
   "cell_type": "code",
   "execution_count": 1,
   "id": "d111c0bb-e01a-450a-b1b7-1e580497ba64",
   "metadata": {},
   "outputs": [],
   "source": [
    "import pandas as pd\n",
    "import numpy as np\n",
    "import matplotlib.pyplot as plt\n",
    "import seaborn as sns"
   ]
  },
  {
   "cell_type": "code",
   "execution_count": 2,
   "id": "6b02d9a2-209b-4ff8-8dc6-e7d74584bf31",
   "metadata": {},
   "outputs": [],
   "source": [
    "df = pd.read_csv('swift.csv')"
   ]
  },
  {
   "cell_type": "code",
   "execution_count": 3,
   "id": "8193f74e-e628-445a-9cf1-3c0c40827cac",
   "metadata": {},
   "outputs": [],
   "source": [
    "df_copy = df.copy()"
   ]
  },
  {
   "cell_type": "code",
   "execution_count": 25,
   "id": "08cf362c-83a7-4baa-8906-a35df301ae1d",
   "metadata": {},
   "outputs": [],
   "source": [
    "size = 10000000"
   ]
  },
  {
   "cell_type": "code",
   "execution_count": 26,
   "id": "9981da9a-2505-4712-a1e1-c0094282c258",
   "metadata": {},
   "outputs": [],
   "source": [
    "df = df_copy.copy()[:size]"
   ]
  },
  {
   "cell_type": "code",
   "execution_count": 27,
   "id": "4b07b45e-fe96-4ec3-9fa5-e20fb1dcb6a4",
   "metadata": {},
   "outputs": [
    {
     "data": {
      "text/plain": [
       "Transaction Ref    False\n",
       "Originator         False\n",
       "Beneficiary        False\n",
       "Type               False\n",
       "Currency           False\n",
       "Value              False\n",
       "Flag               False\n",
       "Fulldate           False\n",
       "Intermediate       False\n",
       "dtype: bool"
      ]
     },
     "execution_count": 27,
     "metadata": {},
     "output_type": "execute_result"
    }
   ],
   "source": [
    "df.isna().any()"
   ]
  },
  {
   "cell_type": "code",
   "execution_count": 28,
   "id": "cc42b363-48e6-49f6-8efe-3c7afa77f29c",
   "metadata": {},
   "outputs": [
    {
     "name": "stdout",
     "output_type": "stream",
     "text": [
      "Wall time: 6.02 s\n"
     ]
    }
   ],
   "source": [
    "%%time\n",
    "df = df_copy.copy()[:size]\n",
    "df['Fulldate'] = pd.to_datetime(df['Fulldate'])\n",
    "\n",
    "df['OriginatorCountry'] = df['Originator'].str.strip().str[4:6]\n",
    "df['IntermediaryCountry'] = df['Intermediary'].str.strip().str[4:6]\n",
    "df['BeneficiaryCountry'] = df['Originator'].str.strip().str[4:6]\n",
    "\n",
    "df['OriginatorCountry_BeneficiaryCountry'] = df['OriginatorCountry']+df['BeneficiaryCountry']\n",
    "df['OriginatorCountry_IntermediaryCountry'] = df['OriginatorCountry']+df['IntermediaryCountry']\n",
    "df['IntermediaryCountry_BeneficiaryCountry'] = df['IntermediaryCountry']+df['BeneficiaryCountry']\n",
    "df['OriginatorCountry_IntermediaryCountry_BeneficiaryCountry'] = df['OriginatorCountry']+df['IntermediaryCountry']+df['BeneficiaryCountry']"
   ]
  },
  {
   "cell_type": "markdown",
   "id": "655b861a-e5d3-453e-83ae-c37839a14ce6",
   "metadata": {},
   "source": [
    "# Features Client"
   ]
  },
  {
   "cell_type": "code",
   "execution_count": 29,
   "id": "14075b31-15bd-465c-a15c-c43f39269133",
   "metadata": {},
   "outputs": [],
   "source": [
    "def getLatency(x,name_col):\n",
    "    return (x[name_col]-x[name_col].shift(1)).dt.total_seconds().fillna(0)"
   ]
  },
  {
   "cell_type": "code",
   "execution_count": 30,
   "id": "d1cfb5a6-9a71-4958-aab3-ace6df4373f4",
   "metadata": {},
   "outputs": [],
   "source": [
    "def get_circuit(x):\n",
    "    return sum(df.loc[x.index,'Beneficiary']==df.loc[x.index,'Intermediary'])"
   ]
  },
  {
   "cell_type": "code",
   "execution_count": 31,
   "id": "b5b465e8-db9c-4b56-90ee-f87a9a998a19",
   "metadata": {},
   "outputs": [],
   "source": [
    "def get_circuit(x):\n",
    "    return sum(x.str[:2]!=x.str[2:4])"
   ]
  },
  {
   "cell_type": "code",
   "execution_count": 32,
   "id": "9a61952a-f306-4fb8-a7fe-02992b24cd8c",
   "metadata": {},
   "outputs": [],
   "source": [
    "def base_features_client(type_client,period,relation):\n",
    "    \n",
    "    cols_start = df.columns\n",
    "    \n",
    "    groupby = []\n",
    "        \n",
    "    if period == '10Days':\n",
    "        groupby = type_client+[pd.Grouper(key='Fulldate', axis=0, freq='10D')]\n",
    "    elif period == 'Month':\n",
    "        groupby = type_client+[pd.Grouper(key='Fulldate', axis=0, freq='30D')]\n",
    "    elif period == 'Global':\n",
    "        groupby = type_client\n",
    "\n",
    "    name = period+'_'+'_'.join(type_client)\n",
    "    \n",
    "    print(groupby)\n",
    "    #FREQUENCY\n",
    "    #print('frequency')\n",
    "    \n",
    "    df['frequency_'+name] = df.groupby(groupby)['Value'].transform('count')\n",
    "    \n",
    "    #AMOUNT\n",
    "    #print('amount')\n",
    "    \n",
    "    df['sum_value_'+name] = df.groupby(groupby)['Value'].transform('sum')\n",
    "    df['max_value_'+name] = df.groupby(groupby)['Value'].transform('max')\n",
    "    df['min_value_'+name] = df.groupby(groupby)['Value'].transform('min')\n",
    "    df['avg_value_'+name] = df.groupby(groupby)['Value'].transform('sum')/df['frequency_'+name]\n",
    "    \n",
    "    if relation == False:\n",
    "        # LATENCY\n",
    "        #print('latency')\n",
    "        df['latency_'+name] = df.groupby(groupby, as_index=False).apply(getLatency,name_col='Fulldate').reset_index(level=0, drop=True)\n",
    "\n",
    "\n",
    "        # NB RELATION\n",
    "        #print('nb relation')\n",
    "        if type_client[0] == 'Originator':\n",
    "            df['number_relation_'+name] = df.groupby(['Originator'])['Beneficiary'].transform('nunique')\n",
    "        elif type_client[0] =='Beneficiary':\n",
    "            df['number_relation_'+name] = df.groupby(['Beneficiary'])['Originator'].transform('nunique')\n",
    "        \n",
    "    # NB OF DISTINCT CURRENCY\n",
    "    #print('currency 1')\n",
    "    \n",
    "    df['number_distinct_currency_'+name] = df.groupby(['Originator'])['Currency'].transform('nunique')\n",
    "    \n",
    "    # NB WITH CURRENT CURRENCY\n",
    "    #print('currency 2')\n",
    "        \n",
    "    df['frequency_with_currency_'+name] = df.groupby(groupby+['Currency'])['Value'].transform('count')\n",
    "    \n",
    "    if relation == False:\n",
    "    \n",
    "        # NB OF DISTINCT COUNTRIES\n",
    "        #print('country 1')\n",
    "\n",
    "        if type_client[0] == 'Originator' :\n",
    "            df['number_distinct_country_'+name] = df.groupby(['Originator'])['BeneficiaryCountry'].transform('nunique')\n",
    "        elif type_client[0] =='Beneficiary':\n",
    "            df['number_distinct_country_'+name] = df.groupby(['Beneficiary'])['OriginatorCountry'].transform('nunique')\n",
    "\n",
    "        # NB WITH CURRENT COUNTRY\n",
    "       # print('country 2')\n",
    "\n",
    "        if type_client[0] == 'Originator':\n",
    "            df['frequency_to_Beneficiary_Country_'+name] = df.groupby(groupby+['BeneficiaryCountry'])['Value'].transform('count')\n",
    "\n",
    "        elif type_client[0] =='Beneficiary':\n",
    "            df['frequency_to_Originator_Country_'+name] = df.groupby(groupby+['OriginatorCountry'])['Value'].transform('count')\n",
    "\n",
    "\n",
    "        # NB WITH INTERMEDIATE\n",
    "        #print('intermediary 1')\n",
    "\n",
    "        if type_client[0] == 'Originator':\n",
    "            df['number_with_intermediary_'+name] = df.groupby(['Originator'])['IntermediaryCountry_BeneficiaryCountry'].transform(get_circuit)\n",
    "        elif type_client[0] =='Beneficiary' :\n",
    "            df['number_with_intermediary_'+name] = df.groupby(['Beneficiary'])['IntermediaryCountry_BeneficiaryCountry'].transform(get_circuit)\n",
    "\n",
    "        # NB DISTINCT CIRCRUIT\n",
    "        #print('intermediary 2')\n",
    "\n",
    "        if type_client[0] == 'Originator':\n",
    "            df['number_dinstinct_circuit_with_intermediary_'+name] = df.groupby(['Originator'])['IntermediaryCountry_BeneficiaryCountry'].transform('nunique')\n",
    "        elif type_client[0] =='Beneficiary':\n",
    "            df['number_dinstinct_circuit_with_intermediary_'+name] = df.groupby(['Beneficiary'])['OriginatorCountry_IntermediaryCountry'].transform('nunique')\n",
    "\n",
    "        # NB CURRENT CIRCRUIT\n",
    "        #print('intermediary 3')\n",
    "\n",
    "        if type_client[0] == 'Originator':\n",
    "            df['number_current_circuit_with_intermediary_'+name] = df.groupby(['Originator','IntermediaryCountry_BeneficiaryCountry'])['Value'].transform('count')\n",
    "        elif type_client[0] =='Beneficiary':\n",
    "            df['number_current_circuit_with_intermediary_'+name] = df.groupby(['Beneficiary','OriginatorCountry_IntermediaryCountry'])['Value'].transform('count')\n",
    "\n",
    "    \n",
    "    cols_end = df.columns\n",
    "    \n",
    "    new_cols = list(set(cols_end) - set(cols_start))\n",
    "    \n",
    "    return new_cols"
   ]
  },
  {
   "cell_type": "code",
   "execution_count": 33,
   "id": "85c08cd7-332c-43d3-a27d-7734721be56d",
   "metadata": {},
   "outputs": [
    {
     "name": "stdout",
     "output_type": "stream",
     "text": [
      "['Beneficiary']\n",
      "['Beneficiary', TimeGrouper(key='Fulldate', freq=<10 * Days>, axis=0, sort=True, closed='left', label='left', how='mean', convention='e', origin='start_day')]\n",
      "['Beneficiary', TimeGrouper(key='Fulldate', freq=<30 * Days>, axis=0, sort=True, closed='left', label='left', how='mean', convention='e', origin='start_day')]\n",
      "['Originator']\n",
      "['Originator', TimeGrouper(key='Fulldate', freq=<10 * Days>, axis=0, sort=True, closed='left', label='left', how='mean', convention='e', origin='start_day')]\n",
      "['Originator', TimeGrouper(key='Fulldate', freq=<30 * Days>, axis=0, sort=True, closed='left', label='left', how='mean', convention='e', origin='start_day')]\n",
      "['Intermediate']\n",
      "['Intermediate', TimeGrouper(key='Fulldate', freq=<10 * Days>, axis=0, sort=True, closed='left', label='left', how='mean', convention='e', origin='start_day')]\n",
      "['Intermediate', TimeGrouper(key='Fulldate', freq=<30 * Days>, axis=0, sort=True, closed='left', label='left', how='mean', convention='e', origin='start_day')]\n",
      "['Originator', 'Beneficiary']\n",
      "['Originator', 'Beneficiary', TimeGrouper(key='Fulldate', freq=<10 * Days>, axis=0, sort=True, closed='left', label='left', how='mean', convention='e', origin='start_day')]\n",
      "['Originator', 'Beneficiary', TimeGrouper(key='Fulldate', freq=<30 * Days>, axis=0, sort=True, closed='left', label='left', how='mean', convention='e', origin='start_day')]\n",
      "['Originator', 'Intermediate']\n",
      "['Originator', 'Intermediate', TimeGrouper(key='Fulldate', freq=<10 * Days>, axis=0, sort=True, closed='left', label='left', how='mean', convention='e', origin='start_day')]\n",
      "['Originator', 'Intermediate', TimeGrouper(key='Fulldate', freq=<30 * Days>, axis=0, sort=True, closed='left', label='left', how='mean', convention='e', origin='start_day')]\n",
      "['Intermediate', 'Beneficiary']\n",
      "['Intermediate', 'Beneficiary', TimeGrouper(key='Fulldate', freq=<10 * Days>, axis=0, sort=True, closed='left', label='left', how='mean', convention='e', origin='start_day')]\n",
      "['Intermediate', 'Beneficiary', TimeGrouper(key='Fulldate', freq=<30 * Days>, axis=0, sort=True, closed='left', label='left', how='mean', convention='e', origin='start_day')]\n",
      "Wall time: 21min 6s\n"
     ]
    }
   ],
   "source": [
    "%%time \n",
    "\n",
    "array = []\n",
    "name_configuration = []\n",
    "\n",
    "array.append(base_features_client(['Beneficiary'],'Global',False))\n",
    "array.append(base_features_client(['Beneficiary'],'10Days',False))\n",
    "array.append(base_features_client(['Beneficiary'],'Month',False))\n",
    "name_configuration.append('Beneficiary-Global')\n",
    "name_configuration.append('Beneficiary-10Days')\n",
    "name_configuration.append('Beneficiary-Month')\n",
    "\n",
    "array.append(base_features_client(['Originator'],'Global',False))\n",
    "array.append(base_features_client(['Originator'],'10Days',False))\n",
    "array.append(base_features_client(['Originator'],'Month',False))\n",
    "name_configuration.append('Originator-Global')\n",
    "name_configuration.append('Originator-10Days')\n",
    "name_configuration.append('Originator-Month')\n",
    "\n",
    "array.append(base_features_client(['Intermediary'],'Global',False))\n",
    "array.append(base_features_client(['Intermediary'],'10Days',False))\n",
    "array.append(base_features_client(['Intermediary'],'Month',False))\n",
    "name_configuration.append('Intermediary-Global')\n",
    "name_configuration.append('Intermediary-10Days')\n",
    "name_configuration.append('Intermediary-Month')\n",
    "\n",
    "array.append(base_features_client(['Originator','Beneficiary'],'Global',True))\n",
    "array.append(base_features_client(['Originator','Beneficiary'],'10Days',True))\n",
    "array.append(base_features_client(['Originator','Beneficiary'],'Month',True))\n",
    "name_configuration.append('Originator-Beneficiary-Global')\n",
    "name_configuration.append('Originator-Beneficiary-10Days')\n",
    "name_configuration.append('Originator-Beneficiary-Month')\n",
    "\n",
    "array.append(base_features_client(['Originator','Intermediary'],'Global',True))\n",
    "array.append(base_features_client(['Originator','Intermediary'],'10Days',True))\n",
    "array.append(base_features_client(['Originator','Intermediary'],'Month',True))\n",
    "name_configuration.append('Originator-Intermediary-Global')\n",
    "name_configuration.append('Originator-Intermediary-10Days')\n",
    "name_configuration.append('Originator-Intermediary-Month')\n",
    "\n",
    "array.append(base_features_client(['Intermediary','Beneficiary'],'Global',True))\n",
    "array.append(base_features_client(['Intermediary','Beneficiary'],'10Days',True))\n",
    "array.append(base_features_client(['Intermediary','Beneficiary'],'Month',True))\n",
    "name_configuration.append('Intermediary-Beneficiary-Global')\n",
    "name_configuration.append('Intermediary-Beneficiary-10Days')\n",
    "name_configuration.append('Intermediary-Beneficiary-Month')"
   ]
  },
  {
   "cell_type": "markdown",
   "id": "66e21503-ef47-44ee-9500-456933dc7b56",
   "metadata": {},
   "source": [
    "# Features Category"
   ]
  },
  {
   "cell_type": "code",
   "execution_count": 34,
   "id": "8de679a5-68a8-4352-bba9-a29ed7f93aca",
   "metadata": {},
   "outputs": [],
   "source": [
    "def base_features_transaction(column,period):\n",
    "    \n",
    "    cols_start = df.columns\n",
    "        \n",
    "    if period == '10Days':\n",
    "        groupby = [column,pd.Grouper(key=name_col_date, axis=0, freq='10D')]\n",
    "    elif period == 'Month':\n",
    "        groupby = [column,pd.Grouper(key=name_col_date, axis=0, freq='30D')]\n",
    "    elif period == 'Global':\n",
    "        groupby = column\n",
    "\n",
    "    name = period+'_'+'_'.join(column)\n",
    "    \n",
    "    #FREQUENCY\n",
    "    #print('frequency')\n",
    "    \n",
    "    df['frequency_'+name] = df.groupby(groupby)['Value'].transform('count')\n",
    "    \n",
    "    #AMOUNT\n",
    "    #print('amount')\n",
    "    \n",
    "    df['sum_value_'+name] = df.groupby(groupby)['Value'].transform('sum')\n",
    "    df['max_value_'+name] = df.groupby(groupby)['Value'].transform('max')\n",
    "    df['min_value_'+name] = df.groupby(groupby)['Value'].transform('min')\n",
    "    df['avg_value_'+name] = df.groupby(groupby)['Value'].transform('sum')/df['frequency_'+name]\n",
    "    \n",
    "    # LATENCY\n",
    "    #print('latency')\n",
    "    df['latency_'+name] = df.groupby(groupby, as_index=False).apply(getLatency,name_col='Fulldate').reset_index(level=0, drop=True)\n",
    "    \n",
    "    # NB RELATION\n",
    "    #print('nb relation')\n",
    "    df['number_relation_originator_'+name] = df.groupby(groupby)['Originator'].transform('nunique')\n",
    "    df['number_relation_beneficiary_'+name] = df.groupby(groupby)['Beneficiary'].transform('nunique')\n",
    "    df['number_relation_intermediary_'+name] = df.groupby(groupby)['Intermediary'].transform('nunique')\n",
    "        \n",
    "    # NB OF DISTINCT CURRENCY\n",
    "    #print('currency ')\n",
    "    \n",
    "    if column != 'Currency':\n",
    "        df['number_distinct_currency_'+name] = df.groupby(groupby)['Currency'].transform('nunique')\n",
    "        df['frequency_with_currency_'+name] = df.groupby(groupby+['Currency'])['Value'].transform('count')\n",
    "    \n",
    "    \n",
    "    # NB OF DISTINCT COUNTRIES\n",
    "    #print('country 1')\n",
    "    \n",
    "    if column not in ['OriginatorCountry','BeneficiaryCountry','IntermediaryCountry']:\n",
    "        df['number_distinct_originator_country_'+name] = df.groupby(groupby)['OriginatorCountry'].transform('nunique')\n",
    "        df['number_distinct_beneficiary_country_'+name] = df.groupby(groupby)['BeneficiaryCountry'].transform('nunique')\n",
    "        df['number_distinct_intermediary_country_'+name] = df.groupby(groupby)['IntermediaryCountry'].transform('nunique')\n",
    "        \n",
    "        df['number_current_originator_country_'+name] = df.groupby(groupby)['OriginatorCountry'].transform('count')\n",
    "        df['number_current_beneficiary_country_'+name] = df.groupby(groupby)['BeneficiaryCountry'].transform('count')\n",
    "        df['number_current_intermediary_country_'+name] = df.groupby(groupby)['IntermediaryCountry'].transform('count')\n",
    "            \n",
    "    \n",
    "    # NB WITH INTERMEDIATE\n",
    "    #print('intermediary 1')\n",
    "    df['number_with_intermediary_'+name] = df.groupby(groupby)['IntermediaryCountry_BeneficiaryCountry'].transform(get_circuit)\n",
    "    \n",
    "    # NB DISTINCT CIRCRUIT\n",
    "    #print('intermediary 2')\n",
    "    \n",
    "    df['number_dinstinct_circuit_with_intermediary_'+name] = df.groupby(groupby)['IntermediaryCountry_BeneficiaryCountry'].transform('nunique')\n",
    "        \n",
    "    # NB CURRENT CIRCRUIT\n",
    "    #print('intermediary 3')\n",
    "    \n",
    "    df['number_current_circuit_intermediaryCountry_beneficiaryCountry_'+name] = df.groupby(groupby+['IntermediaryCountry_BeneficiaryCountry'])['Value'].transform('count')\n",
    "    df['number_current_circuit_originatorCountry_intermediaryCountry_'+name] = df.groupby(groupby+['OriginatorCountry_IntermediaryCountry'])['Value'].transform('count')\n",
    "    df['number_current_circuit_originatorCountry_beneficiaryCountry_'+name] = df.groupby(groupby+['OriginatorCountry_BeneficiaryCountry'])['Value'].transform('count')\n",
    "    df['number_current_circuit_originatorCountry_intermediaryCountry_beneficiaryCountry_'+name] = df.groupby(groupby+['OriginatorCountry_IntermediaryCountry_BeneficiaryCountry'])['Value'].transform('count')\n",
    "    \n",
    "    cols_end = df.columns\n",
    "    \n",
    "    new_cols = list(set(cols_end) - set(cols_start))\n",
    "    \n",
    "    return new_cols\n",
    "        "
   ]
  },
  {
   "cell_type": "code",
   "execution_count": 35,
   "id": "32691512-ec9c-4320-b99c-8fa809952c3a",
   "metadata": {},
   "outputs": [
    {
     "name": "stdout",
     "output_type": "stream",
     "text": [
      "Wall time: 6min 48s\n"
     ]
    }
   ],
   "source": [
    "%%time\n",
    "\n",
    "\n",
    "base_feature = []\n",
    "array.append(base_features_transaction(['Currency'],'Global'))\n",
    "name_configuration.append('Currency-Global')\n",
    "array.append(base_features_transaction(['OriginatorCountry'],'Global'))\n",
    "name_configuration.append('OriginatorCountry-Global')\n",
    "array.append(base_features_transaction(['BeneficiaryCountry'],'Global'))\n",
    "name_configuration.append('BeneficiaryCountry-Global')\n",
    "array.append(base_features_transaction(['IntermediaryCountry'],'Global'))\n",
    "name_configuration.append('IntermediaryCountry-Global')\n",
    "array.append(base_features_transaction(['Type'],'Global'))\n",
    "name_configuration.append('Type-Global')\n"
   ]
  },
  {
   "cell_type": "markdown",
   "id": "5ff85a14-7b4f-4dee-9302-3aeefb9cd9ca",
   "metadata": {},
   "source": [
    "# Transaction Features"
   ]
  },
  {
   "cell_type": "code",
   "execution_count": 36,
   "id": "a3ec6bd6-6287-4d69-8c92-9b5637ad8b20",
   "metadata": {},
   "outputs": [
    {
     "name": "stderr",
     "output_type": "stream",
     "text": [
      "c:\\users\\hamza\\appdata\\local\\programs\\python\\python37\\lib\\site-packages\\ipykernel_launcher.py:5: FutureWarning: Series.dt.weekofyear and Series.dt.week have been deprecated.  Please use Series.dt.isocalendar().week instead.\n",
      "  \"\"\"\n"
     ]
    }
   ],
   "source": [
    "\n",
    "\n",
    "base_feature.extend(list(df_copy.select_dtypes(include=np.number).columns))\n",
    "cols_start = df.columns\n",
    "\n",
    "df['Hour'] = df['Fulldate'].dt.hour\n",
    "df['Week_of_year'] = df['Fulldate'].dt.week\n",
    "df['day_of_week'] = df['Fulldate'].dt.dayofweek\n",
    "df['day_of_year'] = df['Fulldate'].dt.dayofyear\n",
    "df['quarter'] = df['Fulldate'].dt.quarter\n",
    "df['year'] = df['Fulldate'].dt.year\n",
    "df['month'] = df['Fulldate'].dt.month\n",
    "df['day'] = df['Fulldate'].dt.day\n",
    "df['is_month_start'] = df['Fulldate'].dt.is_month_start\n",
    "df['is_month_start'] = df['is_month_start'].map({True: 1, False:0})\n",
    "df['is_month_end'] = df['Fulldate'].dt.is_month_end\n",
    "df['is_month_end'] = df['is_month_end'].map({True: 1, False:0})\n",
    "cols_end = df.columns          \n",
    "new_cols = list(set(cols_end) - set(cols_start))\n",
    "\n",
    "base_feature.extend(new_cols)"
   ]
  },
  {
   "cell_type": "code",
   "execution_count": 37,
   "id": "3f3abc32-95e6-4a7d-ab47-04cc9e485e86",
   "metadata": {},
   "outputs": [
    {
     "data": {
      "text/plain": [
       "Transaction Ref    False\n",
       "Originator         False\n",
       "Beneficiary        False\n",
       "Type               False\n",
       "Currency           False\n",
       "                   ...  \n",
       "year               False\n",
       "month              False\n",
       "day                False\n",
       "is_month_start     False\n",
       "is_month_end       False\n",
       "Length: 312, dtype: bool"
      ]
     },
     "execution_count": 37,
     "metadata": {},
     "output_type": "execute_result"
    }
   ],
   "source": [
    "df.isna().any()"
   ]
  },
  {
   "cell_type": "markdown",
   "id": "b6f052cb-bbbd-49e1-a169-392c7fcf80f5",
   "metadata": {},
   "source": [
    "# Classification"
   ]
  },
  {
   "cell_type": "code",
   "execution_count": 38,
   "id": "d83e6d79-4fe0-452a-b47e-9ab3e1e24d26",
   "metadata": {},
   "outputs": [],
   "source": [
    "from sklearn.tree import DecisionTreeClassifier\n",
    "from sklearn.ensemble import RandomForestClassifier\n",
    "from sklearn.metrics import confusion_matrix\n",
    "from sklearn.model_selection import train_test_split\n",
    "from sklearn.metrics import classification_report\n",
    "from sklearn.preprocessing import MinMaxScaler\n",
    "from itertools import combinations\n",
    "from imblearn.ensemble import BalancedRandomForestClassifier"
   ]
  },
  {
   "cell_type": "code",
   "execution_count": 39,
   "id": "90334542-68ef-4a2f-9046-0ac706d9b1b4",
   "metadata": {},
   "outputs": [],
   "source": [
    "X = df.select_dtypes(include=np.number)\n",
    "y = df['Flag']\n",
    "\n",
    "X_train, X_test, y_train, y_test = train_test_split(X, y, test_size=0.2, random_state=42)"
   ]
  },
  {
   "cell_type": "code",
   "execution_count": 40,
   "id": "4a1b0225-e0ab-4e99-b24d-296f8d7277f7",
   "metadata": {},
   "outputs": [
    {
     "name": "stdout",
     "output_type": "stream",
     "text": [
      "les fraudes : \n",
      "bien trouvée TP :  1768\n",
      "pas trouvée FN :  877\n",
      "les normaux\n",
      "bien trouvée TN :  731623\n",
      "pas trouvée FP :  1091\n",
      "Wall time: 28min 13s\n"
     ]
    },
    {
     "data": {
      "text/plain": [
       "{'False': {'precision': 0.9988027303754267,\n",
       "  'recall': 0.9985110152119381,\n",
       "  'f1-score': 0.9986568514906354,\n",
       "  'support': 732714},\n",
       " 'True': {'precision': 0.6183980412731724,\n",
       "  'recall': 0.6684310018903592,\n",
       "  'f1-score': 0.6424418604651163,\n",
       "  'support': 2645},\n",
       " 'accuracy': 0.9973237561517572,\n",
       " 'macro avg': {'precision': 0.8086003858242996,\n",
       "  'recall': 0.8334710085511486,\n",
       "  'f1-score': 0.8205493559778758,\n",
       "  'support': 735359},\n",
       " 'weighted avg': {'precision': 0.9974344593640222,\n",
       "  'recall': 0.9973237561517572,\n",
       "  'f1-score': 0.9973755879836101,\n",
       "  'support': 735359}}"
      ]
     },
     "execution_count": 40,
     "metadata": {},
     "output_type": "execute_result"
    }
   ],
   "source": [
    "%%time\n",
    "\n",
    "model = DecisionTreeClassifier()\n",
    "\n",
    "model.fit(X_train, y_train)\n",
    "\n",
    "y_pred = model.predict(X_test)\n",
    "\n",
    "report = classification_report(y_test,y_pred,output_dict=True )\n",
    "CM = confusion_matrix(y_test, y_pred)\n",
    "\n",
    "\n",
    "TN = CM[0][0]\n",
    "FN = CM[1][0]\n",
    "TP = CM[1][1]\n",
    "FP = CM[0][1]\n",
    "print('les fraudes : ')\n",
    "print('bien trouvée TP : ',TP)\n",
    "print('pas trouvée FN : ',FN) \n",
    "print('les normaux')\n",
    "print('bien trouvée TN : ',TN)\n",
    "print('pas trouvée FP : ',FP)\n",
    "report"
   ]
  },
  {
   "cell_type": "code",
   "execution_count": 41,
   "id": "95106068-2e8f-40f0-88c8-f841a04c0698",
   "metadata": {},
   "outputs": [
    {
     "name": "stdout",
     "output_type": "stream",
     "text": [
      "les fraudes : \n",
      "bien trouvée TP :  1592\n",
      "pas trouvée FN :  1053\n",
      "les normaux\n",
      "bien trouvée TN :  732619\n",
      "pas trouvée FP :  95\n",
      "Wall time: 36min 59s\n"
     ]
    },
    {
     "data": {
      "text/plain": [
       "{'False': {'precision': 0.9985647537319129,\n",
       "  'recall': 0.9998703450459524,\n",
       "  'f1-score': 0.9992171229130666,\n",
       "  'support': 732714},\n",
       " 'True': {'precision': 0.943687018375815,\n",
       "  'recall': 0.601890359168242,\n",
       "  'f1-score': 0.7349953831948292,\n",
       "  'support': 2645},\n",
       " 'accuracy': 0.9984388577551917,\n",
       " 'macro avg': {'precision': 0.971125886053864,\n",
       "  'recall': 0.8008803521070972,\n",
       "  'f1-score': 0.867106253053948,\n",
       "  'support': 735359},\n",
       " 'weighted avg': {'precision': 0.9983673649598751,\n",
       "  'recall': 0.9984388577551917,\n",
       "  'f1-score': 0.9982667483320051,\n",
       "  'support': 735359}}"
      ]
     },
     "execution_count": 41,
     "metadata": {},
     "output_type": "execute_result"
    }
   ],
   "source": [
    "%%time\n",
    "\n",
    "modelRF = RandomForestClassifier(n_estimators=30,bootstrap = True,max_features = 'sqrt')\n",
    "\n",
    "modelRF.fit(X_train, y_train)\n",
    "\n",
    "y_pred = modelRF.predict(X_test)\n",
    "\n",
    "report = classification_report(y_test,y_pred,output_dict=True )\n",
    "report\n",
    "CM = confusion_matrix(y_test, y_pred)\n",
    "\n",
    "TN = CM[0][0]\n",
    "FN = CM[1][0]\n",
    "TP = CM[1][1]\n",
    "FP = CM[0][1]\n",
    "print('les fraudes : ')\n",
    "print('bien trouvée TP : ',TP)\n",
    "print('pas trouvée FN : ',FN)\n",
    "print('les normaux')\n",
    "print('bien trouvée TN : ',TN)\n",
    "print('pas trouvée FP : ',FP)\n",
    "report"
   ]
  },
  {
   "cell_type": "code",
   "execution_count": 42,
   "id": "2323b6ab-5d43-4580-9405-0a470d93661d",
   "metadata": {},
   "outputs": [
    {
     "name": "stderr",
     "output_type": "stream",
     "text": [
      "c:\\users\\hamza\\appdata\\local\\programs\\python\\python37\\lib\\site-packages\\xgboost\\sklearn.py:1224: UserWarning: The use of label encoder in XGBClassifier is deprecated and will be removed in a future release. To remove this warning, do the following: 1) Pass option use_label_encoder=False when constructing XGBClassifier object; and 2) Encode your labels (y) as integers starting with 0, i.e. 0, 1, 2, ..., [num_class - 1].\n",
      "  warnings.warn(label_encoder_deprecation_msg, UserWarning)\n"
     ]
    },
    {
     "name": "stdout",
     "output_type": "stream",
     "text": [
      "[10:33:26] WARNING: C:/Users/Administrator/workspace/xgboost-win64_release_1.5.1/src/learner.cc:1115: Starting in XGBoost 1.3.0, the default evaluation metric used with the objective 'binary:logistic' was changed from 'error' to 'logloss'. Explicitly set eval_metric if you'd like to restore the old behavior.\n",
      "les fraudes : \n",
      "bien trouvée TP :  1733\n",
      "pas trouvée FN :  912\n",
      "les normaux\n",
      "bien trouvée TN :  732544\n",
      "pas trouvée FP :  170\n",
      "Wall time: 47min 59s\n"
     ]
    },
    {
     "data": {
      "text/plain": [
       "{'False': {'precision': 0.9987565716280186,\n",
       "  'recall': 0.9997679858717043,\n",
       "  'f1-score': 0.9992620228213644,\n",
       "  'support': 732714},\n",
       " 'True': {'precision': 0.9106673673147662,\n",
       "  'recall': 0.6551984877126654,\n",
       "  'f1-score': 0.7620932277924363,\n",
       "  'support': 2645},\n",
       " 'accuracy': 0.9985286098354681,\n",
       " 'macro avg': {'precision': 0.9547119694713924,\n",
       "  'recall': 0.8274832367921849,\n",
       "  'f1-score': 0.8806776253069004,\n",
       "  'support': 735359},\n",
       " 'weighted avg': {'precision': 0.9984397251008006,\n",
       "  'recall': 0.9985286098354681,\n",
       "  'f1-score': 0.9984089545066345,\n",
       "  'support': 735359}}"
      ]
     },
     "execution_count": 42,
     "metadata": {},
     "output_type": "execute_result"
    }
   ],
   "source": [
    "%%time\n",
    "\n",
    "import xgboost as xgb\n",
    "\n",
    "\n",
    "xgb_model = xgb.XGBClassifier(objective=\"binary:logistic\", random_state=42)\n",
    "xgb_model.fit(X_train, y_train)\n",
    "\n",
    "\n",
    "y_pred = xgb_model.predict(X_test)\n",
    "\n",
    "report = classification_report(y_test,y_pred,output_dict=True )\n",
    "report\n",
    "CM = confusion_matrix(y_test, y_pred)\n",
    "\n",
    "TN = CM[0][0]\n",
    "FN = CM[1][0]\n",
    "TP = CM[1][1]\n",
    "FP = CM[0][1]\n",
    "print('les fraudes : ')\n",
    "print('bien trouvée TP : ',TP)\n",
    "print('pas trouvée FN : ',FN)\n",
    "print('les normaux')\n",
    "print('bien trouvée TN : ',TN)\n",
    "print('pas trouvée FP : ',FP)\n",
    "report\n"
   ]
  },
  {
   "cell_type": "markdown",
   "id": "e3fd735e-04a4-403a-9214-e669a69dda5f",
   "metadata": {},
   "source": [
    "# Approche"
   ]
  },
  {
   "cell_type": "code",
   "execution_count": 43,
   "id": "967feae1-c5e8-4600-bdc5-1f35a6c8ad8e",
   "metadata": {},
   "outputs": [
    {
     "name": "stdout",
     "output_type": "stream",
     "text": [
      "Beneficiary-Global base &  0.51 & 0.59 & 0.55 \\\\ \\hline\n",
      "Beneficiary-10Days base &  0.48 & 0.56 & 0.52 \\\\ \\hline\n",
      "Beneficiary-Month base &  0.47 & 0.55 & 0.51 \\\\ \\hline\n",
      "Originator-Global base &  0.2 & 0.26 & 0.22 \\\\ \\hline\n",
      "Originator-10Days base &  0.21 & 0.29 & 0.24 \\\\ \\hline\n",
      "Originator-Month base &  0.21 & 0.29 & 0.24 \\\\ \\hline\n",
      "Intermediate-Global base &  0.34 & 0.41 & 0.37 \\\\ \\hline\n",
      "Intermediate-10Days base &  0.18 & 0.23 & 0.2 \\\\ \\hline\n",
      "Intermediate-Month base &  0.26 & 0.33 & 0.29 \\\\ \\hline\n",
      "Originator-Beneficiary-Global base &  0.57 & 0.66 & 0.61 \\\\ \\hline\n",
      "Originator-Beneficiary-10Days base &  0.31 & 0.38 & 0.35 \\\\ \\hline\n",
      "Originator-Beneficiary-Month base &  0.49 & 0.57 & 0.53 \\\\ \\hline\n",
      "Originator-Intermediate-Global base &  0.41 & 0.51 & 0.45 \\\\ \\hline\n",
      "Originator-Intermediate-10Days base &  0.23 & 0.3 & 0.26 \\\\ \\hline\n",
      "Originator-Intermediate-Month base &  0.29 & 0.36 & 0.32 \\\\ \\hline\n",
      "Intermediate-Beneficiary-Global base &  0.53 & 0.63 & 0.57 \\\\ \\hline\n",
      "Intermediate-Beneficiary-10Days base &  0.25 & 0.31 & 0.28 \\\\ \\hline\n",
      "Intermediate-Beneficiary-Month base &  0.26 & 0.32 & 0.29 \\\\ \\hline\n",
      "Currency-Global base &  0.2 & 0.27 & 0.23 \\\\ \\hline\n",
      "OriginatorCountry-Global base &  0.2 & 0.27 & 0.23 \\\\ \\hline\n",
      "BeneficiaryCountry-Global base &  0.2 & 0.27 & 0.23 \\\\ \\hline\n",
      "IntermediateCountry-Global base &  0.2 & 0.28 & 0.23 \\\\ \\hline\n",
      "Type-Global base &  0.22 & 0.29 & 0.25 \\\\ \\hline\n",
      "Wall time: 34min\n"
     ]
    }
   ],
   "source": [
    "%%time\n",
    "y_pred_array = []\n",
    "y_pred_array_f1_score = []\n",
    "models = []\n",
    "models_f1_score = []\n",
    "\n",
    "\n",
    "\n",
    "for idx,cols in enumerate(name_configuration):\n",
    "    model = DecisionTreeClassifier()\n",
    "    model.fit(X_train[array[idx]+base_feature], y_train)\n",
    "    models.append(model)\n",
    "    \n",
    "    y_pred = model.predict(X_test[array[idx]+base_feature])\n",
    "    \n",
    "    report = classification_report(y_test,y_pred,output_dict=True )\n",
    "\n",
    "    models_f1_score.append(report['True']['f1-score'])\n",
    "    y_pred_array.append(np.multiply(y_pred, 1))\n",
    "    y_pred_array_f1_score.append(np.multiply(y_pred, round(report['True']['f1-score'],2)))\n",
    "    \n",
    "    print(name_configuration[idx], 'base & ',round(report['True']['precision'],2),'&',round(report['True']['recall'],2),'&',round(report['True']['f1-score'],2),'\\\\\\ \\hline')"
   ]
  },
  {
   "cell_type": "code",
   "execution_count": 44,
   "id": "692fd050-e931-4260-a5b8-8085f8297d8f",
   "metadata": {},
   "outputs": [],
   "source": [
    "import warnings\n",
    "warnings.filterwarnings('ignore')"
   ]
  },
  {
   "cell_type": "code",
   "execution_count": 52,
   "id": "9a25ec1f-a1df-4e7b-9e8e-54bb203f061d",
   "metadata": {},
   "outputs": [
    {
     "name": "stdout",
     "output_type": "stream",
     "text": [
      "0 : 0.007167982829361359\n",
      "1 : 0.6570871030690083\n",
      "2 : 0.7345454545454545\n",
      "3 : 0.7692947784480965\n",
      "4 : 0.7782340862422998\n",
      "5 : 0.7817509247842171\n",
      "6 : 0.7840837696335078\n",
      "7 : 0.7848750267036958\n",
      "8 : 0.7860394537177542\n",
      "9 : 0.7870129870129869\n",
      "----------------\n",
      "best alpha :  9\n",
      "best f1-score :  0.7870129870129869\n",
      "best threshold :  0.615\n",
      "Wall time: 19min 5s\n"
     ]
    }
   ],
   "source": [
    "%%time\n",
    "\n",
    "for alpha in range(10):\n",
    "    maxF1 = 0\n",
    "    alphaMax = 0\n",
    "    threshold = 0\n",
    "    listf1 = []\n",
    "    listIndex = []\n",
    "    y_pred_final = np.sum(y_pred_array_f1_score, 0)/(alpha+np.sum(y_pred_array, 0))\n",
    "    y_pred_final = (y_pred_final - np.min(y_pred_final)) / (np.max(y_pred_final) - np.min(y_pred_final))\n",
    "    y_pred_final[np.isnan(y_pred_final)] = 0\n",
    "    for i in np.arange(0,1,0.005):\n",
    "        y_pred = np.where(y_pred_final>=i, 1, 0)\n",
    "        report = classification_report(y_test,y_pred,output_dict=True )\n",
    "        listf1.append(report['True']['f1-score'])\n",
    "        listIndex.append(i)\n",
    "        # print( i,' : ',report['True'])\n",
    "    if np.max(listf1) > maxF1:\n",
    "        maxF1 = np.max(listf1)\n",
    "        alphaMax = alpha\n",
    "        threshold = listIndex[np.argmax(listf1)]\n",
    "    print(alpha,':',np.max(listf1))\n",
    "print('----------------')\n",
    "print('best alpha : ',alphaMax)\n",
    "print('best f1-score : ',maxF1)\n",
    "print('best threshold : ',threshold)"
   ]
  },
  {
   "cell_type": "code",
   "execution_count": 275,
   "id": "533aa7a3-c446-4a20-b25a-d7b7b863b7b6",
   "metadata": {},
   "outputs": [
    {
     "data": {
      "text/plain": [
       "{'False': {'precision': 0.9989457591011812,\n",
       "  'recall': 0.9996478844405866,\n",
       "  'f1-score': 0.9992966984391616,\n",
       "  'support': 732714},\n",
       " 'True': {'precision': 0.8788732394366198,\n",
       "  'recall': 0.7077504725897921,\n",
       "  'f1-score': 0.7840837696335078,\n",
       "  'support': 2645},\n",
       " 'accuracy': 0.9985979637156818,\n",
       " 'macro avg': {'precision': 0.9389094992689004,\n",
       "  'recall': 0.8536991785151893,\n",
       "  'f1-score': 0.8916902340363346,\n",
       "  'support': 735359},\n",
       " 'weighted avg': {'precision': 0.9985138723431314,\n",
       "  'recall': 0.9985979637156818,\n",
       "  'f1-score': 0.9985226027978613,\n",
       "  'support': 735359}}"
      ]
     },
     "execution_count": 275,
     "metadata": {},
     "output_type": "execute_result"
    }
   ],
   "source": [
    "y_pred_final = np.sum(y_pred_array_f1_score, 0)/(alphaMax+np.sum(y_pred_array, 0))\n",
    "y_pred_final = (y_pred_final - np.min(y_pred_final)) / (np.max(y_pred_final) - np.min(y_pred_final))\n",
    "y_pred_final[np.isnan(y_pred_final)] = 0\n",
    "\n",
    "y_pred = np.where(y_pred_final>=threshold, 1, 0)\n",
    "report = classification_report(y_test,y_pred,output_dict=True )\n",
    "report"
   ]
  },
  {
   "cell_type": "markdown",
   "id": "10e52f82-b10b-4e19-8bcb-15bdc7aca9e5",
   "metadata": {},
   "source": [
    "# Scores "
   ]
  },
  {
   "cell_type": "code",
   "execution_count": 140,
   "id": "206b4cee-1fba-4c45-8e02-8999009943a0",
   "metadata": {},
   "outputs": [],
   "source": [
    "arr_conf = []\n",
    "for i in np.transpose(y_pred_array):\n",
    "    arr_conf.append([name_configuration[j] for j,x in enumerate(i) if x>0])"
   ]
  },
  {
   "cell_type": "code",
   "execution_count": 141,
   "id": "49df6f3b-ecee-4ff9-a2ea-4aef563c4b45",
   "metadata": {},
   "outputs": [],
   "source": [
    "new_df = df.loc[X_test.index] \n",
    "new_df['Fraudulent Score'] = y_pred_final\n",
    "new_df['Decision Trees'] = arr_conf\n",
    "new_df = new_df.sort_values(by=['Fraudulent Score'], ascending=False)"
   ]
  },
  {
   "cell_type": "code",
   "execution_count": 142,
   "id": "fe5be0b9-afb9-483c-b592-9dcc1a539f81",
   "metadata": {},
   "outputs": [
    {
     "data": {
      "text/html": [
       "<div>\n",
       "<style scoped>\n",
       "    .dataframe tbody tr th:only-of-type {\n",
       "        vertical-align: middle;\n",
       "    }\n",
       "\n",
       "    .dataframe tbody tr th {\n",
       "        vertical-align: top;\n",
       "    }\n",
       "\n",
       "    .dataframe thead th {\n",
       "        text-align: right;\n",
       "    }\n",
       "</style>\n",
       "<table border=\"1\" class=\"dataframe\">\n",
       "  <thead>\n",
       "    <tr style=\"text-align: right;\">\n",
       "      <th></th>\n",
       "      <th>Transaction Ref</th>\n",
       "      <th>Originator</th>\n",
       "      <th>Beneficiary</th>\n",
       "      <th>Type</th>\n",
       "      <th>Currency</th>\n",
       "      <th>Value</th>\n",
       "      <th>Flag</th>\n",
       "      <th>Fulldate</th>\n",
       "      <th>Intermediate</th>\n",
       "      <th>Fraudulent Score</th>\n",
       "      <th>Decision Trees</th>\n",
       "    </tr>\n",
       "  </thead>\n",
       "  <tbody>\n",
       "    <tr>\n",
       "      <th>3169062</th>\n",
       "      <td>780C11AEADE3</td>\n",
       "      <td>ATCUIDXX</td>\n",
       "      <td>RKGANGXX</td>\n",
       "      <td>MT103</td>\n",
       "      <td>67B</td>\n",
       "      <td>59804</td>\n",
       "      <td>True</td>\n",
       "      <td>2019-11-11 19:26:00</td>\n",
       "      <td>RKGANGXX</td>\n",
       "      <td>1.000000</td>\n",
       "      <td>[Beneficiary-Global, Beneficiary-10Days, Benef...</td>\n",
       "    </tr>\n",
       "    <tr>\n",
       "      <th>385491</th>\n",
       "      <td>AAA3EB8BA850AD7D</td>\n",
       "      <td>BBWJTLXX</td>\n",
       "      <td>OIKTQAXX</td>\n",
       "      <td>MT103</td>\n",
       "      <td>B6E</td>\n",
       "      <td>60414</td>\n",
       "      <td>True</td>\n",
       "      <td>2019-02-07 11:33:00</td>\n",
       "      <td>OIKTQAXX</td>\n",
       "      <td>0.999213</td>\n",
       "      <td>[Beneficiary-Global, Beneficiary-10Days, Benef...</td>\n",
       "    </tr>\n",
       "    <tr>\n",
       "      <th>2529248</th>\n",
       "      <td>BED46C41AC</td>\n",
       "      <td>BEMINIXX</td>\n",
       "      <td>GMHUSGXX</td>\n",
       "      <td>MT103</td>\n",
       "      <td>385</td>\n",
       "      <td>831863</td>\n",
       "      <td>True</td>\n",
       "      <td>2019-09-09 13:11:00</td>\n",
       "      <td>PRCFNEXX</td>\n",
       "      <td>0.998568</td>\n",
       "      <td>[Beneficiary-Global, Beneficiary-10Days, Benef...</td>\n",
       "    </tr>\n",
       "    <tr>\n",
       "      <th>1593214</th>\n",
       "      <td>7E5511214D1E</td>\n",
       "      <td>ARPWSTXX</td>\n",
       "      <td>XWUYTMXX</td>\n",
       "      <td>MT103</td>\n",
       "      <td>A42</td>\n",
       "      <td>74613</td>\n",
       "      <td>True</td>\n",
       "      <td>2019-06-07 08:21:00</td>\n",
       "      <td>TIYOBGXX</td>\n",
       "      <td>0.998527</td>\n",
       "      <td>[Beneficiary-Global, Beneficiary-10Days, Benef...</td>\n",
       "    </tr>\n",
       "    <tr>\n",
       "      <th>3224905</th>\n",
       "      <td>DCB7A95011CD</td>\n",
       "      <td>BQUSERXX</td>\n",
       "      <td>DBZKBBXX</td>\n",
       "      <td>MT103</td>\n",
       "      <td>3A1</td>\n",
       "      <td>809220</td>\n",
       "      <td>True</td>\n",
       "      <td>2019-11-15 17:40:00</td>\n",
       "      <td>DBZKBBXX</td>\n",
       "      <td>0.998527</td>\n",
       "      <td>[Beneficiary-Global, Beneficiary-10Days, Benef...</td>\n",
       "    </tr>\n",
       "    <tr>\n",
       "      <th>...</th>\n",
       "      <td>...</td>\n",
       "      <td>...</td>\n",
       "      <td>...</td>\n",
       "      <td>...</td>\n",
       "      <td>...</td>\n",
       "      <td>...</td>\n",
       "      <td>...</td>\n",
       "      <td>...</td>\n",
       "      <td>...</td>\n",
       "      <td>...</td>\n",
       "      <td>...</td>\n",
       "    </tr>\n",
       "    <tr>\n",
       "      <th>3516530</th>\n",
       "      <td>CC93E87D1C861B35</td>\n",
       "      <td>AFUEGYXX</td>\n",
       "      <td>VQRRPGXX</td>\n",
       "      <td>MT103</td>\n",
       "      <td>57D</td>\n",
       "      <td>249038</td>\n",
       "      <td>False</td>\n",
       "      <td>2019-12-16 13:29:00</td>\n",
       "      <td>WCWXECXX</td>\n",
       "      <td>0.000000</td>\n",
       "      <td>[]</td>\n",
       "    </tr>\n",
       "    <tr>\n",
       "      <th>155697</th>\n",
       "      <td>9A9B4A6740A7</td>\n",
       "      <td>CLAFLAXX</td>\n",
       "      <td>ODWYSCXX</td>\n",
       "      <td>MT202</td>\n",
       "      <td>307</td>\n",
       "      <td>362691</td>\n",
       "      <td>False</td>\n",
       "      <td>2019-01-16 09:06:00</td>\n",
       "      <td>ODWYSCXX</td>\n",
       "      <td>0.000000</td>\n",
       "      <td>[]</td>\n",
       "    </tr>\n",
       "    <tr>\n",
       "      <th>1060162</th>\n",
       "      <td>EED49B861D</td>\n",
       "      <td>BCFTZWXX</td>\n",
       "      <td>RLLVKMXX</td>\n",
       "      <td>MT103</td>\n",
       "      <td>EF9</td>\n",
       "      <td>125795</td>\n",
       "      <td>False</td>\n",
       "      <td>2019-04-16 10:40:00</td>\n",
       "      <td>RLLVKMXX</td>\n",
       "      <td>0.000000</td>\n",
       "      <td>[]</td>\n",
       "    </tr>\n",
       "    <tr>\n",
       "      <th>2609413</th>\n",
       "      <td>708886A70D48C9EB</td>\n",
       "      <td>CWBECAXX</td>\n",
       "      <td>JTDKSMXX</td>\n",
       "      <td>MT202</td>\n",
       "      <td>41B</td>\n",
       "      <td>73891</td>\n",
       "      <td>False</td>\n",
       "      <td>2019-09-17 10:30:00</td>\n",
       "      <td>SQMLAEXX</td>\n",
       "      <td>0.000000</td>\n",
       "      <td>[]</td>\n",
       "    </tr>\n",
       "    <tr>\n",
       "      <th>3029905</th>\n",
       "      <td>862BBEBAACBDDCA2</td>\n",
       "      <td>CHLXHKXX</td>\n",
       "      <td>LFYZHUXX</td>\n",
       "      <td>MT202</td>\n",
       "      <td>8B9</td>\n",
       "      <td>141353</td>\n",
       "      <td>False</td>\n",
       "      <td>2019-10-29 09:19:00</td>\n",
       "      <td>LFYZHUXX</td>\n",
       "      <td>0.000000</td>\n",
       "      <td>[]</td>\n",
       "    </tr>\n",
       "  </tbody>\n",
       "</table>\n",
       "<p>735359 rows × 11 columns</p>\n",
       "</div>"
      ],
      "text/plain": [
       "          Transaction Ref Originator Beneficiary   Type Currency   Value  \\\n",
       "3169062      780C11AEADE3   ATCUIDXX    RKGANGXX  MT103      67B   59804   \n",
       "385491   AAA3EB8BA850AD7D   BBWJTLXX    OIKTQAXX  MT103      B6E   60414   \n",
       "2529248        BED46C41AC   BEMINIXX    GMHUSGXX  MT103      385  831863   \n",
       "1593214      7E5511214D1E   ARPWSTXX    XWUYTMXX  MT103      A42   74613   \n",
       "3224905      DCB7A95011CD   BQUSERXX    DBZKBBXX  MT103      3A1  809220   \n",
       "...                   ...        ...         ...    ...      ...     ...   \n",
       "3516530  CC93E87D1C861B35   AFUEGYXX    VQRRPGXX  MT103      57D  249038   \n",
       "155697       9A9B4A6740A7   CLAFLAXX    ODWYSCXX  MT202      307  362691   \n",
       "1060162        EED49B861D   BCFTZWXX    RLLVKMXX  MT103      EF9  125795   \n",
       "2609413  708886A70D48C9EB   CWBECAXX    JTDKSMXX  MT202      41B   73891   \n",
       "3029905  862BBEBAACBDDCA2   CHLXHKXX    LFYZHUXX  MT202      8B9  141353   \n",
       "\n",
       "          Flag             Fulldate Intermediate  Fraudulent Score  \\\n",
       "3169062   True  2019-11-11 19:26:00     RKGANGXX          1.000000   \n",
       "385491    True  2019-02-07 11:33:00     OIKTQAXX          0.999213   \n",
       "2529248   True  2019-09-09 13:11:00     PRCFNEXX          0.998568   \n",
       "1593214   True  2019-06-07 08:21:00     TIYOBGXX          0.998527   \n",
       "3224905   True  2019-11-15 17:40:00     DBZKBBXX          0.998527   \n",
       "...        ...                  ...          ...               ...   \n",
       "3516530  False  2019-12-16 13:29:00     WCWXECXX          0.000000   \n",
       "155697   False  2019-01-16 09:06:00     ODWYSCXX          0.000000   \n",
       "1060162  False  2019-04-16 10:40:00     RLLVKMXX          0.000000   \n",
       "2609413  False  2019-09-17 10:30:00     SQMLAEXX          0.000000   \n",
       "3029905  False  2019-10-29 09:19:00     LFYZHUXX          0.000000   \n",
       "\n",
       "                                            Decision Trees  \n",
       "3169062  [Beneficiary-Global, Beneficiary-10Days, Benef...  \n",
       "385491   [Beneficiary-Global, Beneficiary-10Days, Benef...  \n",
       "2529248  [Beneficiary-Global, Beneficiary-10Days, Benef...  \n",
       "1593214  [Beneficiary-Global, Beneficiary-10Days, Benef...  \n",
       "3224905  [Beneficiary-Global, Beneficiary-10Days, Benef...  \n",
       "...                                                    ...  \n",
       "3516530                                                 []  \n",
       "155697                                                  []  \n",
       "1060162                                                 []  \n",
       "2609413                                                 []  \n",
       "3029905                                                 []  \n",
       "\n",
       "[735359 rows x 11 columns]"
      ]
     },
     "execution_count": 142,
     "metadata": {},
     "output_type": "execute_result"
    }
   ],
   "source": [
    "new_df"
   ]
  },
  {
   "cell_type": "markdown",
   "id": "ddba8cef-8d89-4862-aed1-84cc0d115da6",
   "metadata": {},
   "source": [
    "# Get Path"
   ]
  },
  {
   "cell_type": "code",
   "execution_count": 159,
   "id": "06daa555-98ed-4dc4-bcb6-ad9adb887849",
   "metadata": {},
   "outputs": [],
   "source": [
    "index_most_fraudulent_transaction = new_df.iloc[0].name"
   ]
  },
  {
   "cell_type": "code",
   "execution_count": 170,
   "id": "17e011f3-2c63-4d25-a40f-c6a94c776eae",
   "metadata": {},
   "outputs": [],
   "source": [
    "first_decision_tree = new_df.iloc[0]['Decision Trees'][0]"
   ]
  },
  {
   "cell_type": "code",
   "execution_count": 173,
   "id": "aa5a1452-3541-427b-b860-c5bb1ff99e21",
   "metadata": {},
   "outputs": [],
   "source": [
    "index_model = name_configuration.index(first_decision_tree)"
   ]
  },
  {
   "cell_type": "code",
   "execution_count": 213,
   "id": "6408965d-9485-437c-8437-51544fb7e800",
   "metadata": {},
   "outputs": [
    {
     "data": {
      "text/plain": [
       "array([ True])"
      ]
     },
     "execution_count": 213,
     "metadata": {},
     "output_type": "execute_result"
    }
   ],
   "source": [
    "models[index_model].predict([X_test[array[index_model]+base_feature].loc[index_most_fraudulent_transaction]])"
   ]
  },
  {
   "cell_type": "code",
   "execution_count": 324,
   "id": "b031b521-abaf-42ee-b1b4-66d00009c41d",
   "metadata": {},
   "outputs": [],
   "source": [
    "index_loc = list(X_test_model.index).index(index_most_fraudulent_transaction)"
   ]
  },
  {
   "cell_type": "code",
   "execution_count": 325,
   "id": "7539845a-2c04-45a2-86af-a8893c35bfc6",
   "metadata": {},
   "outputs": [
    {
     "name": "stdout",
     "output_type": "stream",
     "text": [
      "Rules used to predict sample 20397: \n",
      "frequency_Global_Beneficiary : 1597 > 1.5\n",
      "frequency_to_Originator_Country_Global_Beneficiary : 216 > 156.5\n",
      "Value : 59804 <= 469121.0\n",
      "latency_Global_Beneficiary : 240.00000000000003 <= 450.0\n",
      "frequency_Global_Beneficiary : 1597 > 425.5\n",
      "frequency_Global_Beneficiary : 1597 > 985.5\n",
      "frequency_to_Originator_Country_Global_Beneficiary : 216 <= 513.5\n",
      "Hour : 19 <= 19.5\n",
      "Value : 59804 <= 223063.0\n",
      "Hour : 19 > 18.5\n",
      "frequency_to_Originator_Country_Global_Beneficiary : 216 <= 217.5\n",
      "leaf node 6220 reached, no decision here\n"
     ]
    }
   ],
   "source": [
    "estimator = models[index_model]\n",
    "\n",
    "n_nodes = estimator.tree_.node_count\n",
    "children_left = estimator.tree_.children_left\n",
    "children_right = estimator.tree_.children_right\n",
    "feature = estimator.tree_.feature\n",
    "threshold = estimator.tree_.threshold\n",
    "\n",
    "X_test_model = X_test[array[index_model]+base_feature]\n",
    "node_indicator = estimator.decision_path(X_test_model)\n",
    "\n",
    "leave_id = estimator.apply(X_test_model)\n",
    "\n",
    "\n",
    "# HERE IS WHAT YOU WANT\n",
    "sample_id = index_loc\n",
    "node_index = node_indicator.indices[node_indicator.indptr[sample_id]:\n",
    "                                    node_indicator.indptr[sample_id + 1]]\n",
    "\n",
    "print('Rules used to predict sample %s: ' % sample_id)\n",
    "for node_id in node_index:\n",
    "\n",
    "    if leave_id[sample_id] == node_id:  # <-- changed != to ==\n",
    "        #continue # <-- comment out\n",
    "        print(\"leaf node {} reached, no decision here\".format(leave_id[sample_id])) # <--\n",
    "\n",
    "    else: # < -- added else to iterate through decision nodes\n",
    "        if (X_test_model.iloc[[sample_id], feature[node_id]].iloc[0] <= threshold[node_id]):\n",
    "            threshold_sign = \"<=\"\n",
    "        else:\n",
    "            threshold_sign = \">\"\n",
    "\n",
    "        print(\"%s : %s %s %s\"\n",
    "              % (X_test_model.columns[feature[node_id]],\n",
    "                  X_test_model.iloc[[sample_id], feature[node_id]].iloc[0],\n",
    "                 threshold_sign,\n",
    "                 threshold[node_id]))"
   ]
  }
 ],
 "metadata": {
  "kernelspec": {
   "display_name": "Python 3 (ipykernel)",
   "language": "python",
   "name": "python3"
  },
  "language_info": {
   "codemirror_mode": {
    "name": "ipython",
    "version": 3
   },
   "file_extension": ".py",
   "mimetype": "text/x-python",
   "name": "python",
   "nbconvert_exporter": "python",
   "pygments_lexer": "ipython3",
   "version": "3.7.0"
  }
 },
 "nbformat": 4,
 "nbformat_minor": 5
}
